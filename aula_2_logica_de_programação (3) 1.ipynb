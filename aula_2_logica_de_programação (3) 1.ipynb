{
  "cells": [
    {
      "cell_type": "markdown",
      "metadata": {
        "id": "72wQ073k0oaZ"
      },
      "source": [
        "# Estrutura de dados"
      ]
    },
    {
      "cell_type": "markdown",
      "metadata": {
        "id": "PmqYP1ti1sTf"
      },
      "source": [
        "##Manipulação de Variaveis"
      ]
    },
    {
      "cell_type": "markdown",
      "metadata": {
        "id": "KlMSNxpT3SB7"
      },
      "source": [
        "###Numeros Inteiros"
      ]
    },
    {
      "cell_type": "code",
      "execution_count": null,
      "metadata": {
        "id": "fwrH6BCn11v9"
      },
      "outputs": [],
      "source": [
        "num = 3\n",
        "num1 = 5\n",
        "num_jpg = 13\n",
        "num_conv = 15"
      ]
    },
    {
      "cell_type": "code",
      "execution_count": null,
      "metadata": {
        "colab": {
          "base_uri": "https://localhost:8080/"
        },
        "id": "R71jX5AM26q8",
        "outputId": "49ea6217-78d9-4ab7-f136-a5cce4393d4a"
      },
      "outputs": [
        {
          "output_type": "execute_result",
          "data": {
            "text/plain": [
              "5"
            ]
          },
          "metadata": {},
          "execution_count": 3
        }
      ],
      "source": [
        "num1"
      ]
    },
    {
      "cell_type": "code",
      "execution_count": null,
      "metadata": {
        "colab": {
          "base_uri": "https://localhost:8080/"
        },
        "id": "y_E7aW1Y2-BS",
        "outputId": "c66a1e5c-75e5-4fc0-eef0-a59f133ba117"
      },
      "outputs": [
        {
          "output_type": "stream",
          "name": "stdout",
          "text": [
            "5 15\n"
          ]
        }
      ],
      "source": [
        "print(num1, num_conv)"
      ]
    },
    {
      "cell_type": "markdown",
      "metadata": {
        "id": "2b1tC5233YYj"
      },
      "source": [
        "###Números Reais"
      ]
    },
    {
      "cell_type": "code",
      "execution_count": null,
      "metadata": {
        "id": "JZVLV1P03FT2"
      },
      "outputs": [],
      "source": [
        "pi = 3.142345\n"
      ]
    },
    {
      "cell_type": "code",
      "execution_count": null,
      "metadata": {
        "colab": {
          "base_uri": "https://localhost:8080/"
        },
        "id": "TuYymxxB3NGp",
        "outputId": "9f75cebd-cf28-439f-9216-c0c08f1bce99"
      },
      "outputs": [
        {
          "output_type": "execute_result",
          "data": {
            "text/plain": [
              "3.142345"
            ]
          },
          "metadata": {},
          "execution_count": 9
        }
      ],
      "source": [
        "pi\n"
      ]
    },
    {
      "cell_type": "markdown",
      "metadata": {
        "id": "xsGy9thF3en0"
      },
      "source": [
        "###Strigs e chars"
      ]
    },
    {
      "cell_type": "code",
      "execution_count": null,
      "metadata": {
        "id": "dQljixRZ3Pn2",
        "colab": {
          "base_uri": "https://localhost:8080/"
        },
        "outputId": "712bf550-7a81-46d6-e92b-5e6c3be3cebe"
      },
      "outputs": [
        {
          "output_type": "execute_result",
          "data": {
            "text/plain": [
              "3.142345"
            ]
          },
          "metadata": {},
          "execution_count": 10
        }
      ],
      "source": [
        "letra = 'a'\n",
        "palavra1 = 'estrutura de dados'\n",
        "palavra2 = 'python'\n",
        "pi"
      ]
    },
    {
      "cell_type": "code",
      "execution_count": null,
      "metadata": {
        "colab": {
          "base_uri": "https://localhost:8080/"
        },
        "id": "g7JyaPKr3zd3",
        "outputId": "dd02d32c-5c01-4fa6-f333-3e3d8bc5715a"
      },
      "outputs": [
        {
          "output_type": "stream",
          "name": "stdout",
          "text": [
            "a estrutura de dados\n"
          ]
        }
      ],
      "source": [
        "print(letra, palavra1)"
      ]
    },
    {
      "cell_type": "code",
      "execution_count": null,
      "metadata": {
        "colab": {
          "base_uri": "https://localhost:8080/"
        },
        "id": "CFn4j0LU3-kf",
        "outputId": "a0b46010-6e1e-4c50-f77c-fb4ab85d3c93"
      },
      "outputs": [
        {
          "output_type": "stream",
          "name": "stdout",
          "text": [
            "estou aprendendo uma  estrutura de dados\n",
            "esta estrutura de dados aplicado em python\n"
          ]
        }
      ],
      "source": [
        "print('estou aprendendo uma ', palavra1)\n",
        "print('esta', palavra1, 'aplicado em', palavra2)"
      ]
    },
    {
      "cell_type": "code",
      "execution_count": null,
      "metadata": {
        "colab": {
          "base_uri": "https://localhost:8080/"
        },
        "id": "vlVOYZms4otZ",
        "outputId": "e0c62278-2e17-444d-ab09-a73ab2278757"
      },
      "outputs": [
        {
          "name": "stdout",
          "output_type": "stream",
          "text": [
            "digite sua idade33\n"
          ]
        }
      ],
      "source": [
        "idade = int(input('digite sua idade'))"
      ]
    },
    {
      "cell_type": "code",
      "execution_count": null,
      "metadata": {
        "colab": {
          "base_uri": "https://localhost:8080/"
        },
        "id": "8eP9HasS4zHe",
        "outputId": "aaf85f0d-bd33-4d82-8a6a-a9667c4c7033"
      },
      "outputs": [
        {
          "output_type": "stream",
          "name": "stdout",
          "text": [
            "qual é a sua altura?1,65\n",
            "sua altura é  1,65\n"
          ]
        }
      ],
      "source": [
        "p = input('qual é a sua altura?')\n",
        "print('sua altura é ',p)"
      ]
    },
    {
      "cell_type": "code",
      "execution_count": null,
      "metadata": {
        "colab": {
          "base_uri": "https://localhost:8080/"
        },
        "id": "nnA1Cwzy5sOb",
        "outputId": "b7a015ee-1fc1-440e-acb2-a182c939d881"
      },
      "outputs": [
        {
          "output_type": "stream",
          "name": "stdout",
          "text": [
            "qual é seu nome?asdasddasd\n",
            "seu nome é asdasddasd\n"
          ]
        }
      ],
      "source": [
        "nome  = str(input('qual é seu nome?'))\n",
        "print('seu nome é', nome)"
      ]
    },
    {
      "cell_type": "code",
      "execution_count": null,
      "metadata": {
        "colab": {
          "base_uri": "https://localhost:8080/"
        },
        "id": "0DpZLV-85P8s",
        "outputId": "643bde43-22ae-4584-e2f1-b8dcad358103"
      },
      "outputs": [
        {
          "output_type": "execute_result",
          "data": {
            "text/plain": [
              "33"
            ]
          },
          "metadata": {},
          "execution_count": 14
        }
      ],
      "source": [
        "idade"
      ]
    },
    {
      "cell_type": "markdown",
      "metadata": {
        "id": "gV6ViUPe6ODJ"
      },
      "source": [
        "###manipulação de Strings\n"
      ]
    },
    {
      "cell_type": "code",
      "execution_count": null,
      "metadata": {
        "colab": {
          "base_uri": "https://localhost:8080/"
        },
        "id": "JHKPXpSW6R3u",
        "outputId": "f1c74a60-08e8-4a56-dd40-c192bfecfc37"
      },
      "outputs": [
        {
          "output_type": "stream",
          "name": "stdout",
          "text": [
            "alexandredfghdfgdfgdfgdfg\n"
          ]
        }
      ],
      "source": [
        "a = 'alexandredfghdfgdfgdfgdfg'\n",
        "print(a)\n"
      ]
    },
    {
      "cell_type": "code",
      "execution_count": null,
      "metadata": {
        "colab": {
          "base_uri": "https://localhost:8080/"
        },
        "id": "8h3h4vzy6iVn",
        "outputId": "627ff389-2af7-4fd3-a50b-7864d8286d14"
      },
      "outputs": [
        {
          "output_type": "stream",
          "name": "stdout",
          "text": [
            "ALEXANDREDFGHDFGDFGDFGDFG\n"
          ]
        }
      ],
      "source": [
        "maiuscula = a.upper()\n",
        "print(maiuscula)"
      ]
    },
    {
      "cell_type": "code",
      "execution_count": null,
      "metadata": {
        "colab": {
          "base_uri": "https://localhost:8080/"
        },
        "id": "1MLfyEw_6wCV",
        "outputId": "d9e66aaf-e17c-4b34-c3ca-647263d4f9a9"
      },
      "outputs": [
        {
          "output_type": "stream",
          "name": "stdout",
          "text": [
            "alexandredfghdfgdfgdfgdfg\n"
          ]
        }
      ],
      "source": [
        "miniscula = a.lower()\n",
        "print(miniscula)"
      ]
    },
    {
      "cell_type": "code",
      "execution_count": null,
      "metadata": {
        "colab": {
          "base_uri": "https://localhost:8080/"
        },
        "id": "3xC63G1R68gv",
        "outputId": "a5f0fb6e-f209-481d-b882-35fa0ce120a7"
      },
      "outputs": [
        {
          "output_type": "stream",
          "name": "stdout",
          "text": [
            "Alexandredfghdfgdfgdfgdfg\n"
          ]
        }
      ],
      "source": [
        "cap = a.capitalize()\n",
        "print(cap)"
      ]
    },
    {
      "cell_type": "code",
      "execution_count": null,
      "metadata": {
        "colab": {
          "base_uri": "https://localhost:8080/"
        },
        "id": "tDDzVNzg7Mux",
        "outputId": "89473b05-d39c-4317-db94-b4d905516c09"
      },
      "outputs": [
        {
          "output_type": "stream",
          "name": "stdout",
          "text": [
            "ale\n"
          ]
        }
      ],
      "source": [
        "parte_palavra = a[0:3]\n",
        "print(parte_palavra)"
      ]
    },
    {
      "cell_type": "code",
      "execution_count": null,
      "metadata": {
        "colab": {
          "base_uri": "https://localhost:8080/"
        },
        "id": "mxbJqGG-7nJC",
        "outputId": "60938d14-7df5-4213-e176-e218876c403d"
      },
      "outputs": [
        {
          "output_type": "stream",
          "name": "stdout",
          "text": [
            "xandredfghdfgdfgdfgdfg\n"
          ]
        }
      ],
      "source": [
        "ultimas_letras = a[3:]\n",
        "print(ultimas_letras)"
      ]
    },
    {
      "cell_type": "code",
      "execution_count": null,
      "metadata": {
        "colab": {
          "base_uri": "https://localhost:8080/"
        },
        "id": "2VGDxW-D8GZM",
        "outputId": "56c0fa74-b9e7-4220-9126-3879ae9c9cf7"
      },
      "outputs": [
        {
          "output_type": "stream",
          "name": "stdout",
          "text": [
            "alexandredfghdfgdfgdfgdfg\n",
            "alexandredfghdfgdfgdfgdfg\n"
          ]
        }
      ],
      "source": [
        "b = a.replace('xjhjke', 'xandra')\n",
        "\n",
        "print(a)\n",
        "print(b)"
      ]
    },
    {
      "cell_type": "code",
      "execution_count": null,
      "metadata": {
        "colab": {
          "base_uri": "https://localhost:8080/"
        },
        "id": "JviAYoNp8g6W",
        "outputId": "f0064855-8ccc-41eb-afe1-d367cb4d1ddf"
      },
      "outputs": [
        {
          "output_type": "execute_result",
          "data": {
            "text/plain": [
              "2"
            ]
          },
          "metadata": {},
          "execution_count": 28
        }
      ],
      "source": [
        "b.find('e')"
      ]
    },
    {
      "cell_type": "markdown",
      "metadata": {
        "id": "Jc9elozr81BI"
      },
      "source": [
        "####-1 letra nao encotrada"
      ]
    },
    {
      "cell_type": "code",
      "execution_count": null,
      "metadata": {
        "colab": {
          "base_uri": "https://localhost:8080/"
        },
        "id": "H_cs--XE8tLu",
        "outputId": "39f729bd-7323-4d0d-d8af-bb4d9448408f"
      },
      "outputs": [
        {
          "output_type": "execute_result",
          "data": {
            "text/plain": [
              "-1"
            ]
          },
          "metadata": {},
          "execution_count": 29
        }
      ],
      "source": [
        "b.find('s')"
      ]
    },
    {
      "cell_type": "code",
      "execution_count": null,
      "metadata": {
        "colab": {
          "base_uri": "https://localhost:8080/"
        },
        "id": "6aXCjkrF88fF",
        "outputId": "39afd445-269f-4c51-9534-fb75f8164761"
      },
      "outputs": [
        {
          "output_type": "stream",
          "name": "stdout",
          "text": [
            "25\n"
          ]
        }
      ],
      "source": [
        "print(len(b))"
      ]
    },
    {
      "cell_type": "code",
      "execution_count": null,
      "metadata": {
        "colab": {
          "base_uri": "https://localhost:8080/"
        },
        "id": "l1SghGIw9OfG",
        "outputId": "904df23c-2441-432d-a7fb-bfbde53d3174"
      },
      "outputs": [
        {
          "output_type": "stream",
          "name": "stdout",
          "text": [
            "20\n"
          ]
        }
      ],
      "source": [
        "c = '        dia  D      '\n",
        "print(len(c))\n"
      ]
    },
    {
      "cell_type": "code",
      "source": [
        "rr = '3'\n",
        "ee = int(rr)\n",
        "print(5*ff)\n",
        "print(5*ee)\n"
      ],
      "metadata": {
        "colab": {
          "base_uri": "https://localhost:8080/"
        },
        "id": "fU-_h_3bQHdF",
        "outputId": "d3911f47-6e47-46d7-d803-03750325f464"
      },
      "execution_count": null,
      "outputs": [
        {
          "output_type": "stream",
          "name": "stdout",
          "text": [
            "55555\n",
            "15\n"
          ]
        }
      ]
    },
    {
      "cell_type": "code",
      "execution_count": null,
      "metadata": {
        "colab": {
          "base_uri": "https://localhost:8080/"
        },
        "id": "f3h0Hs_e9sSU",
        "outputId": "170ae0aa-794b-4cff-bda9-f2fae3bdccaa"
      },
      "outputs": [
        {
          "output_type": "stream",
          "name": "stdout",
          "text": [
            "20\n",
            "dia  D\n",
            "6\n"
          ]
        }
      ],
      "source": [
        "print(len(c))\n",
        "f = c.strip()\n",
        "print(f)\n",
        "print(len(f))\n"
      ]
    },
    {
      "cell_type": "code",
      "execution_count": null,
      "metadata": {
        "colab": {
          "base_uri": "https://localhost:8080/"
        },
        "id": "b_TxB3oA-lG-",
        "outputId": "3c643626-fa5a-4545-edd4-18b578dc8af9"
      },
      "outputs": [
        {
          "output_type": "stream",
          "name": "stdout",
          "text": [
            "20\n"
          ]
        }
      ],
      "source": [
        "print(len(c))\n"
      ]
    },
    {
      "cell_type": "code",
      "execution_count": null,
      "metadata": {
        "id": "uyxGv8Nw9-pm"
      },
      "outputs": [],
      "source": [
        "nn1 = '14'\n",
        "nn2 = '16'\n",
        "n1 = int(nn1)\n",
        "n2 = int(nn2)"
      ]
    },
    {
      "cell_type": "code",
      "execution_count": null,
      "metadata": {
        "colab": {
          "base_uri": "https://localhost:8080/"
        },
        "id": "66ozv0T8-GYe",
        "outputId": "757bbafb-461a-4bae-bcd2-2f6e853f38dd"
      },
      "outputs": [
        {
          "output_type": "stream",
          "name": "stdout",
          "text": [
            "dividindo14 por 16 o resultado e 0.875\n",
            "dividindo n1 por n2 o resultado e n1/n2\n",
            "dividindo n1por n2 o resultado e n1/n2\n"
          ]
        }
      ],
      "source": [
        "print(f'dividindo{n1} por {n2} o resultado e {n1/n2}')\n",
        "print(f'dividindo n1 por n2 o resultado e n1/n2')\n",
        "print('dividindo n1','por n2 o resultado e n1/n2',sep='')"
      ]
    },
    {
      "cell_type": "markdown",
      "metadata": {
        "id": "xv1MaGz3-bQ-"
      },
      "source": [
        "##Opérações Matemáticas"
      ]
    },
    {
      "cell_type": "code",
      "execution_count": null,
      "metadata": {
        "id": "bWF4VJH9-gGm"
      },
      "outputs": [],
      "source": [
        "a = 5\n",
        "b = 3\n"
      ]
    },
    {
      "cell_type": "code",
      "execution_count": null,
      "metadata": {
        "colab": {
          "base_uri": "https://localhost:8080/"
        },
        "id": "rfgU03ha-zrJ",
        "outputId": "c6e4dc2b-3ed1-4617-f16e-1fede287c68d"
      },
      "outputs": [
        {
          "output_type": "stream",
          "name": "stdout",
          "text": [
            "5 3\n"
          ]
        }
      ],
      "source": [
        "print(a,b)"
      ]
    },
    {
      "cell_type": "code",
      "execution_count": null,
      "metadata": {
        "colab": {
          "base_uri": "https://localhost:8080/"
        },
        "id": "08kEVOWG-zjC",
        "outputId": "703e9de8-5230-483e-dd69-e385decb21b7"
      },
      "outputs": [
        {
          "output_type": "execute_result",
          "data": {
            "text/plain": [
              "8"
            ]
          },
          "metadata": {},
          "execution_count": 51
        }
      ],
      "source": [
        "a + b"
      ]
    },
    {
      "cell_type": "code",
      "execution_count": null,
      "metadata": {
        "colab": {
          "base_uri": "https://localhost:8080/"
        },
        "id": "eqsQEle2-zgX",
        "outputId": "924b9ff4-203d-40b3-c168-dd022528aef6"
      },
      "outputs": [
        {
          "output_type": "stream",
          "name": "stdout",
          "text": [
            " a soma é  8\n"
          ]
        }
      ],
      "source": [
        "print(' a soma é ', a + b)"
      ]
    },
    {
      "cell_type": "code",
      "execution_count": null,
      "metadata": {
        "colab": {
          "base_uri": "https://localhost:8080/"
        },
        "id": "JCTCZljo-zdJ",
        "outputId": "cd71b2be-cb86-42fb-aec5-f825b31f56eb"
      },
      "outputs": [
        {
          "output_type": "stream",
          "name": "stdout",
          "text": [
            " a subtração é  2\n"
          ]
        }
      ],
      "source": [
        "print(' a subtração é ', a - b)"
      ]
    },
    {
      "cell_type": "code",
      "execution_count": null,
      "metadata": {
        "colab": {
          "base_uri": "https://localhost:8080/"
        },
        "id": "tzt0vUnR-zXC",
        "outputId": "c9d0cbae-b2ac-4db5-a459-9329018ee050"
      },
      "outputs": [
        {
          "output_type": "stream",
          "name": "stdout",
          "text": [
            " a Divisão é  1.6666666666666667\n"
          ]
        }
      ],
      "source": [
        "print(' a Divisão é ', a / b)"
      ]
    },
    {
      "cell_type": "code",
      "execution_count": null,
      "metadata": {
        "colab": {
          "base_uri": "https://localhost:8080/"
        },
        "id": "lAe3tahG-zPS",
        "outputId": "76a181d4-b96b-4d64-ce92-7930191ebe6a"
      },
      "outputs": [
        {
          "output_type": "stream",
          "name": "stdout",
          "text": [
            " a multiplicação  é  15\n"
          ]
        }
      ],
      "source": [
        "print(' a multiplicação  é ', a * b)"
      ]
    },
    {
      "cell_type": "code",
      "execution_count": null,
      "metadata": {
        "colab": {
          "base_uri": "https://localhost:8080/"
        },
        "id": "8-nv9XDB-zE4",
        "outputId": "cc1c878e-4086-45fd-d581-fa221be4a39a"
      },
      "outputs": [
        {
          "output_type": "stream",
          "name": "stdout",
          "text": [
            " o resto da divisão é  0\n"
          ]
        }
      ],
      "source": [
        "print(' o resto da divisão é ', 10 % 2)"
      ]
    },
    {
      "cell_type": "code",
      "execution_count": null,
      "metadata": {
        "colab": {
          "base_uri": "https://localhost:8080/"
        },
        "id": "IybllqhV-yvc",
        "outputId": "22fc2e2c-a876-46f0-e6dd-ad9cea9cb7b9"
      },
      "outputs": [
        {
          "name": "stdout",
          "output_type": "stream",
          "text": [
            " o resto da divisão é  1\n"
          ]
        }
      ],
      "source": [
        "print(' o resto da divisão é ', 11 % 2)"
      ]
    },
    {
      "cell_type": "code",
      "execution_count": null,
      "metadata": {
        "colab": {
          "base_uri": "https://localhost:8080/"
        },
        "id": "INVljeYo_rfP",
        "outputId": "de003c6c-6a37-4d98-cca1-89c8c9500919"
      },
      "outputs": [
        {
          "name": "stdout",
          "output_type": "stream",
          "text": [
            " 5 elevado a 3  é  25\n"
          ]
        }
      ],
      "source": [
        "print(' 5 elevado a 3  é ', 5**2)"
      ]
    },
    {
      "cell_type": "code",
      "execution_count": null,
      "metadata": {
        "colab": {
          "base_uri": "https://localhost:8080/"
        },
        "id": "5jHhSIIV_rn-",
        "outputId": "ea4cc1ab-fb5f-49a1-bc70-658dc050e3af"
      },
      "outputs": [
        {
          "data": {
            "text/plain": [
              "3.0"
            ]
          },
          "execution_count": 65,
          "metadata": {
            "tags": []
          },
          "output_type": "execute_result"
        }
      ],
      "source": [
        "import math\n",
        "math.sqrt(9)"
      ]
    },
    {
      "cell_type": "markdown",
      "metadata": {
        "id": "2BUxmanZAPT1"
      },
      "source": [
        "##Arredondamento"
      ]
    },
    {
      "cell_type": "code",
      "execution_count": null,
      "metadata": {
        "colab": {
          "base_uri": "https://localhost:8080/"
        },
        "id": "NEEO1NUg_rv2",
        "outputId": "f43c274b-2fdc-4019-d5c6-86de4fb9c60e"
      },
      "outputs": [
        {
          "output_type": "stream",
          "name": "stdout",
          "text": [
            "0.038908246225319396\n"
          ]
        }
      ],
      "source": [
        "casos_doença = 134\n",
        "numero_habitantes = 3444\n",
        "casos_por_habitantes = casos_doença  / numero_habitantes\n",
        "print(casos_por_habitantes)"
      ]
    },
    {
      "cell_type": "code",
      "execution_count": null,
      "metadata": {
        "colab": {
          "base_uri": "https://localhost:8080/"
        },
        "id": "5iYtaARn_r2m",
        "outputId": "85c4786e-32fc-49b1-8321-73c310f9e8e5"
      },
      "outputs": [
        {
          "output_type": "execute_result",
          "data": {
            "text/plain": [
              "0.039"
            ]
          },
          "metadata": {},
          "execution_count": 61
        }
      ],
      "source": [
        "round(casos_por_habitantes, 3)"
      ]
    },
    {
      "cell_type": "code",
      "execution_count": null,
      "metadata": {
        "colab": {
          "base_uri": "https://localhost:8080/"
        },
        "id": "aoA4IkuB_r8e",
        "outputId": "31beeddb-b01f-4206-e184-b9f890048f44"
      },
      "outputs": [
        {
          "output_type": "stream",
          "name": "stdout",
          "text": [
            " o numere é  0.0389\n"
          ]
        }
      ],
      "source": [
        "print(' o numere é ', round(casos_por_habitantes,4))"
      ]
    },
    {
      "cell_type": "markdown",
      "metadata": {
        "id": "deEu3EMQBPUM"
      },
      "source": [
        "###exercicio\n",
        "ler 2 numeros\n",
        "calculos"
      ]
    },
    {
      "cell_type": "code",
      "execution_count": null,
      "metadata": {
        "colab": {
          "base_uri": "https://localhost:8080/"
        },
        "id": "tFTuIjDR_sC-",
        "outputId": "877bb8a4-8b6c-4c94-c00a-524338f9467e"
      },
      "outputs": [
        {
          "name": "stdout",
          "output_type": "stream",
          "text": [
            "digete o primeiro numero 3\n",
            "digete o segundo numero 4\n"
          ]
        }
      ],
      "source": [
        "n3 = int(input('digete o primeiro numero '))\n",
        "n4 = int(input('digete o segundo numero '))\n",
        "\n"
      ]
    },
    {
      "cell_type": "code",
      "execution_count": null,
      "metadata": {
        "id": "Ybx--0bJ_sIu"
      },
      "outputs": [],
      "source": [
        "ad = n3 + n4\n",
        "sub = n3 - n4\n",
        "mult = n3 * n4\n",
        "div = n4 / n3\n",
        "elevado = n3**n4"
      ]
    },
    {
      "cell_type": "markdown",
      "metadata": {
        "id": "gMQZ5ZKI_sOm"
      },
      "source": [
        "print('adição ', ad)\n",
        "print('substração ', sub)\n",
        "print('multiplicação ', mult)\n",
        "print('divisão ', round(div, 1))\n",
        "print('n3 elevado a n4 ', elevado)"
      ]
    },
    {
      "cell_type": "code",
      "execution_count": null,
      "metadata": {
        "colab": {
          "base_uri": "https://localhost:8080/"
        },
        "id": "ao0H9AVBDku2",
        "outputId": "30b1d230-2ea6-4569-8ebf-9c1f4f5b790f"
      },
      "outputs": [
        {
          "output_type": "stream",
          "name": "stdout",
          "text": [
            "adição  7\n",
            "substração  -1\n",
            "multiplicação  12\n",
            "divisão  1.3\n",
            "3 elevado a 4 81\n"
          ]
        }
      ],
      "source": [
        "print('adição ', ad)\n",
        "print('substração ', sub)\n",
        "print('multiplicação ', mult)\n",
        "print('divisão ', round(div, 1))\n",
        "print(f'{n3} elevado a {n4}', elevado)"
      ]
    },
    {
      "cell_type": "code",
      "execution_count": null,
      "metadata": {
        "id": "t552i49KD2Op"
      },
      "outputs": [],
      "source": []
    },
    {
      "cell_type": "markdown",
      "metadata": {
        "id": "PejHg0YlEdud"
      },
      "source": [
        "#Operadores Lógicos"
      ]
    },
    {
      "cell_type": "code",
      "execution_count": null,
      "metadata": {
        "id": "rNCuIrx9Ejln"
      },
      "outputs": [],
      "source": [
        "a = True\n",
        "b = False\n"
      ]
    },
    {
      "cell_type": "code",
      "execution_count": null,
      "metadata": {
        "colab": {
          "base_uri": "https://localhost:8080/"
        },
        "id": "JSt1a0HdEwzW",
        "outputId": "c37e8e07-c56e-483c-ffc6-b2dc15231916"
      },
      "outputs": [
        {
          "output_type": "stream",
          "name": "stdout",
          "text": [
            "True False\n"
          ]
        }
      ],
      "source": [
        "print(a,b)"
      ]
    },
    {
      "cell_type": "code",
      "execution_count": null,
      "metadata": {
        "colab": {
          "base_uri": "https://localhost:8080/"
        },
        "id": "Ql6J9lbVEwtu",
        "outputId": "abf6c209-abc4-45cb-945d-963c0fb76516"
      },
      "outputs": [
        {
          "output_type": "execute_result",
          "data": {
            "text/plain": [
              "False"
            ]
          },
          "metadata": {},
          "execution_count": 68
        }
      ],
      "source": [
        "a and b"
      ]
    },
    {
      "cell_type": "code",
      "execution_count": null,
      "metadata": {
        "colab": {
          "base_uri": "https://localhost:8080/"
        },
        "id": "vGXLjkqNEwrv",
        "outputId": "e49132ac-ec2d-40c1-ca8c-d5aa9d97e5c1"
      },
      "outputs": [
        {
          "output_type": "execute_result",
          "data": {
            "text/plain": [
              "False"
            ]
          },
          "metadata": {},
          "execution_count": 69
        }
      ],
      "source": [
        "a & b"
      ]
    },
    {
      "cell_type": "code",
      "execution_count": null,
      "metadata": {
        "colab": {
          "base_uri": "https://localhost:8080/"
        },
        "id": "WTlQBNA7EwpQ",
        "outputId": "e557de70-7d7c-447c-81ba-a976c359a469"
      },
      "outputs": [
        {
          "name": "stdout",
          "output_type": "stream",
          "text": [
            "'a' e 'b' são iguais   False\n"
          ]
        }
      ],
      "source": [
        "c = a & b\n",
        "print(\"'a' e 'b' são iguais  \", c)"
      ]
    },
    {
      "cell_type": "code",
      "execution_count": null,
      "metadata": {
        "colab": {
          "base_uri": "https://localhost:8080/"
        },
        "id": "5qKcxOB2Ewmz",
        "outputId": "a09d944a-aafd-4873-c213-e5115f773a09"
      },
      "outputs": [
        {
          "data": {
            "text/plain": [
              "True"
            ]
          },
          "execution_count": 90,
          "metadata": {
            "tags": []
          },
          "output_type": "execute_result"
        }
      ],
      "source": [
        "a or b"
      ]
    },
    {
      "cell_type": "code",
      "execution_count": null,
      "metadata": {
        "colab": {
          "base_uri": "https://localhost:8080/"
        },
        "id": "4mRNnAvuEwkk",
        "outputId": "d3a89eb2-b835-4a4b-ca51-09a715a66ada"
      },
      "outputs": [
        {
          "data": {
            "text/plain": [
              "True"
            ]
          },
          "execution_count": 91,
          "metadata": {
            "tags": []
          },
          "output_type": "execute_result"
        }
      ],
      "source": [
        "a | b\n"
      ]
    },
    {
      "cell_type": "code",
      "execution_count": null,
      "metadata": {
        "colab": {
          "base_uri": "https://localhost:8080/"
        },
        "id": "VrAZ3FFTEwiV",
        "outputId": "c3e7cea1-b961-4ff1-aa5e-94c98f0fb777"
      },
      "outputs": [
        {
          "data": {
            "text/plain": [
              "False"
            ]
          },
          "execution_count": 92,
          "metadata": {
            "tags": []
          },
          "output_type": "execute_result"
        }
      ],
      "source": [
        "not a"
      ]
    },
    {
      "cell_type": "code",
      "execution_count": null,
      "metadata": {
        "colab": {
          "base_uri": "https://localhost:8080/"
        },
        "id": "8XHXJ_09Ewfw",
        "outputId": "b65ec05a-664c-44ad-c9c6-64543629f92d"
      },
      "outputs": [
        {
          "data": {
            "text/plain": [
              "True"
            ]
          },
          "execution_count": 93,
          "metadata": {
            "tags": []
          },
          "output_type": "execute_result"
        }
      ],
      "source": [
        "not b"
      ]
    },
    {
      "cell_type": "code",
      "execution_count": null,
      "metadata": {
        "colab": {
          "base_uri": "https://localhost:8080/"
        },
        "id": "yv9TEAMbEwci",
        "outputId": "bf63aca1-1009-4acd-eb34-9bcbd0e8082b"
      },
      "outputs": [
        {
          "output_type": "execute_result",
          "data": {
            "text/plain": [
              "False"
            ]
          },
          "metadata": {},
          "execution_count": 71
        }
      ],
      "source": [
        "5 < 3"
      ]
    },
    {
      "cell_type": "code",
      "execution_count": null,
      "metadata": {
        "colab": {
          "base_uri": "https://localhost:8080/"
        },
        "id": "4zv9wGFHEwVR",
        "outputId": "f9e835d9-771c-4013-c742-32dd59d82211"
      },
      "outputs": [
        {
          "data": {
            "text/plain": [
              "True"
            ]
          },
          "execution_count": 96,
          "metadata": {
            "tags": []
          },
          "output_type": "execute_result"
        }
      ],
      "source": [
        "5 >= 3"
      ]
    },
    {
      "cell_type": "code",
      "execution_count": null,
      "metadata": {
        "colab": {
          "base_uri": "https://localhost:8080/"
        },
        "id": "-8ZZcd5wEwKs",
        "outputId": "ca237858-b693-473b-dcdc-437ed6ed15b9"
      },
      "outputs": [
        {
          "data": {
            "text/plain": [
              "False"
            ]
          },
          "execution_count": 97,
          "metadata": {
            "tags": []
          },
          "output_type": "execute_result"
        }
      ],
      "source": [
        "5 == 3"
      ]
    },
    {
      "cell_type": "code",
      "execution_count": null,
      "metadata": {
        "colab": {
          "base_uri": "https://localhost:8080/"
        },
        "id": "Kn6aRJ5gFoGm",
        "outputId": "ffb31ab3-6f3f-48f2-f65f-0f81c77c049b"
      },
      "outputs": [
        {
          "data": {
            "text/plain": [
              "True"
            ]
          },
          "execution_count": 98,
          "metadata": {
            "tags": []
          },
          "output_type": "execute_result"
        }
      ],
      "source": [
        "5 != 3"
      ]
    },
    {
      "cell_type": "markdown",
      "metadata": {
        "id": "PCgWTGf_FtVW"
      },
      "source": [
        "# operador condicional"
      ]
    },
    {
      "cell_type": "code",
      "execution_count": null,
      "metadata": {
        "colab": {
          "base_uri": "https://localhost:8080/"
        },
        "id": "pxBiesvVFxzF",
        "outputId": "90a0b712-e720-4936-fa09-752dce35b1e3"
      },
      "outputs": [
        {
          "data": {
            "text/plain": [
              "True"
            ]
          },
          "execution_count": 99,
          "metadata": {
            "tags": []
          },
          "output_type": "execute_result"
        }
      ],
      "source": [
        "5 > 3\n"
      ]
    },
    {
      "cell_type": "code",
      "execution_count": null,
      "metadata": {
        "colab": {
          "base_uri": "https://localhost:8080/"
        },
        "id": "sZE2yTtdF5RD",
        "outputId": "c34c8975-0acf-4ca4-d661-bf06373d4a0d"
      },
      "outputs": [
        {
          "name": "stdout",
          "output_type": "stream",
          "text": [
            "e menor que\n"
          ]
        }
      ],
      "source": [
        "if 5 > 7:\n",
        "  print('5 é maior que 3')\n",
        "else:\n",
        "  print('e menor que')"
      ]
    },
    {
      "cell_type": "markdown",
      "metadata": {
        "id": "R6rvxGOzHacn"
      },
      "source": [
        "#estrutura de repetição"
      ]
    },
    {
      "cell_type": "markdown",
      "metadata": {
        "id": "KSghMkOFJtki"
      },
      "source": [
        "###FOR"
      ]
    },
    {
      "cell_type": "code",
      "execution_count": null,
      "metadata": {
        "colab": {
          "base_uri": "https://localhost:8080/"
        },
        "id": "9ymW9VsLF5Ot",
        "outputId": "f9902bd8-c0fd-4852-e68c-3d472f866a08"
      },
      "outputs": [
        {
          "output_type": "stream",
          "name": "stdout",
          "text": [
            "1\n",
            "3\n",
            "5\n"
          ]
        }
      ],
      "source": [
        "for n in range(1,6,2):\n",
        "  print(n)"
      ]
    },
    {
      "cell_type": "code",
      "execution_count": null,
      "metadata": {
        "colab": {
          "base_uri": "https://localhost:8080/"
        },
        "id": "x-EH4YcyF5K5",
        "outputId": "a3464f84-f9a6-462e-b5c5-fdd01715ecae"
      },
      "outputs": [
        {
          "output_type": "stream",
          "name": "stdout",
          "text": [
            "5\n",
            "3\n",
            "1\n"
          ]
        }
      ],
      "source": [
        "for n in range(5, 0, -2):\n",
        "  print(n)"
      ]
    },
    {
      "cell_type": "code",
      "execution_count": null,
      "metadata": {
        "colab": {
          "base_uri": "https://localhost:8080/"
        },
        "id": "nXv4Nw7uF5Hc",
        "outputId": "4009154a-a46a-4306-c402-2539fe55e834"
      },
      "outputs": [
        {
          "output_type": "stream",
          "name": "stdout",
          "text": [
            "1\n",
            "3\n",
            "6\n",
            "10\n",
            "15\n",
            "15\n"
          ]
        }
      ],
      "source": [
        "soma = 0\n",
        "for n in range(1,6):\n",
        "  {\n",
        "    soma = soma + n\n",
        "  print(soma)\n",
        "}\n",
        "\n",
        "print(soma)"
      ]
    },
    {
      "cell_type": "code",
      "execution_count": null,
      "metadata": {
        "colab": {
          "base_uri": "https://localhost:8080/"
        },
        "id": "0AA4Eh_fF5FI",
        "outputId": "840ecc00-0962-410e-d86d-94822bd2e336"
      },
      "outputs": [
        {
          "output_type": "stream",
          "name": "stdout",
          "text": [
            "p\n",
            "a\n",
            "l\n",
            "a\n",
            "v\n",
            "ACHOU\n",
            "r\n",
            "a\n"
          ]
        }
      ],
      "source": [
        "palavra = 'palavra'\n",
        "for letra in palavra:\n",
        "  print(letra)\n",
        "  if letra == 'v':\n",
        "    print('ACHOU')"
      ]
    },
    {
      "cell_type": "code",
      "execution_count": null,
      "metadata": {
        "colab": {
          "base_uri": "https://localhost:8080/"
        },
        "id": "WJQgLpc2F5Cd",
        "outputId": "6459486d-c8d7-4a2e-d1d0-79f4246b58cc"
      },
      "outputs": [
        {
          "output_type": "stream",
          "name": "stdout",
          "text": [
            "0\n",
            "---\n",
            "- 0\n",
            "- 1\n",
            "- 2\n",
            "- 3\n",
            "\n",
            "1\n",
            "---\n",
            "- 0\n",
            "- 1\n",
            "- 2\n",
            "- 3\n",
            "\n",
            "2\n",
            "---\n",
            "- 0\n",
            "- 1\n",
            "- 2\n",
            "- 3\n",
            "\n",
            "3\n",
            "---\n",
            "- 0\n",
            "- 1\n",
            "- 2\n",
            "- 3\n",
            "\n",
            "4\n",
            "---\n",
            "- 0\n",
            "- 1\n",
            "- 2\n",
            "- 3\n",
            "\n"
          ]
        }
      ],
      "source": [
        "for i in range(0,5):\n",
        " print(i)\n",
        " print('---')\n",
        " for j in range(0, 4):\n",
        "   print('-', j)\n",
        " print()"
      ]
    },
    {
      "cell_type": "code",
      "execution_count": null,
      "metadata": {
        "colab": {
          "base_uri": "https://localhost:8080/"
        },
        "id": "-J4sOZ5fO9vs",
        "outputId": "82ac322e-7a1c-40f2-88f4-8b1a68275770"
      },
      "outputs": [
        {
          "output_type": "stream",
          "name": "stdout",
          "text": [
            "entre com seu nome :aaa\n",
            "entre com sua idade:22\n",
            " vc é maior de idade \n",
            "22\n",
            "-------------------------\n",
            "21\n",
            "-------------------------\n",
            "20\n",
            "-------------------------\n",
            "19\n",
            "-------------------------\n",
            "18\n",
            "-------------------------\n",
            "17\n",
            "-------------------------\n",
            "16\n",
            "-------------------------\n",
            "15\n",
            "-------------------------\n",
            "14\n",
            "-------------------------\n",
            "13\n",
            "-------------------------\n",
            "12\n",
            "-------------------------\n",
            "11\n",
            "-------------------------\n",
            "10\n",
            "-------------------------\n",
            "9\n",
            "-------------------------\n",
            "8\n",
            "-------------------------\n",
            "7\n",
            "-------------------------\n",
            "6\n",
            "-------------------------\n",
            "5\n",
            "-------------------------\n",
            "4\n",
            "-------------------------\n",
            "3\n",
            "-------------------------\n",
            "2\n",
            "-------------------------\n",
            "1\n",
            "-------------------------\n",
            "31\n",
            "-------------------------\n",
            "29\n",
            "-------------------------\n",
            "27\n",
            "-------------------------\n",
            "25\n",
            "-------------------------\n",
            "23\n",
            "-------------------------\n",
            "21\n",
            "-------------------------\n",
            "19\n",
            "-------------------------\n",
            "17\n",
            "-------------------------\n",
            "15\n",
            "-------------------------\n",
            "13\n",
            "-------------------------\n",
            "11\n",
            "-------------------------\n",
            "9\n",
            "-------------------------\n",
            "7\n",
            "-------------------------\n",
            "5\n",
            "-------------------------\n",
            "3\n",
            "-------------------------\n",
            "1\n",
            "-------------------------\n",
            "3\n",
            "5\n",
            "7\n",
            "9\n",
            "11\n",
            "13\n",
            "15\n",
            "17\n",
            "19\n"
          ]
        }
      ],
      "source": [
        "nome = input('entre com seu nome :')\n",
        "idade = int (input ('entre com sua idade:'))\n",
        "if idade >= 18:\n",
        "  print(' vc é maior de idade ')\n",
        "  for i in range (idade, 0, -1):\n",
        "    print (i)\n",
        "    print(25*'-')\n",
        "  for i in range (31, -1, -2):\n",
        "    print (i)\n",
        "    print(25*'-')\n",
        "  for i in range (3, 20, 2):\n",
        "    print (i)\n",
        "else:\n",
        "  for i in range (0, idade):\n",
        "    print(i)"
      ]
    },
    {
      "cell_type": "markdown",
      "metadata": {
        "id": "CmfGEIPBJwnH"
      },
      "source": [
        "###WHILE"
      ]
    },
    {
      "cell_type": "code",
      "execution_count": null,
      "metadata": {
        "colab": {
          "base_uri": "https://localhost:8080/"
        },
        "id": "xZOsNBvlF5AM",
        "outputId": "a477afcc-6982-4370-91b9-4f37fd06eed5"
      },
      "outputs": [
        {
          "name": "stdout",
          "output_type": "stream",
          "text": [
            "1\n",
            "2\n",
            "3\n",
            "4\n",
            "5\n",
            "---\n"
          ]
        }
      ],
      "source": [
        "n = 1\n",
        "while n < 6:\n",
        " print(n)\n",
        " n += 1\n",
        "print('---')"
      ]
    },
    {
      "cell_type": "code",
      "execution_count": null,
      "metadata": {
        "colab": {
          "base_uri": "https://localhost:8080/"
        },
        "id": "MAXeBp4PF49C",
        "outputId": "1d4bd453-ffb1-4c89-b786-1a8ca30a8bdd"
      },
      "outputs": [
        {
          "name": "stdout",
          "output_type": "stream",
          "text": [
            "15\n"
          ]
        }
      ],
      "source": [
        "s = 0\n",
        "n1 = 1\n",
        "while n1 < 6:\n",
        "  s += n1\n",
        "  n1 += 1\n",
        "print(s)"
      ]
    },
    {
      "cell_type": "code",
      "execution_count": null,
      "metadata": {
        "colab": {
          "base_uri": "https://localhost:8080/"
        },
        "id": "jFxVt4i6F46P",
        "outputId": "9cd2976d-ad86-4194-f568-c355f8839a9f"
      },
      "outputs": [
        {
          "name": "stdout",
          "output_type": "stream",
          "text": [
            "3 x 1 = 3\n",
            "3 x 2 = 6\n",
            "3 x 3 = 9\n",
            "3 x 4 = 12\n",
            "3 x 5 = 15\n",
            "3 x 6 = 18\n",
            "3 x 7 = 21\n",
            "3 x 8 = 24\n",
            "3 x 9 = 27\n",
            "3 x 10 = 30\n"
          ]
        }
      ],
      "source": [
        "for i in range(1, 11, 1):\n",
        "  print('3 x {} = {}'.format(i, 3 * i))"
      ]
    },
    {
      "cell_type": "markdown",
      "metadata": {
        "id": "jhPgYZBxRw-X"
      },
      "source": [
        "#Coleções"
      ]
    },
    {
      "cell_type": "markdown",
      "metadata": {
        "id": "h5K3ixWuR2BI"
      },
      "source": [
        "#Tuplas"
      ]
    },
    {
      "cell_type": "code",
      "execution_count": null,
      "metadata": {
        "id": "hMEWHlXNSGn1"
      },
      "outputs": [],
      "source": [
        "tupla = ('aaaaa', 1, 'ccccccc')"
      ]
    },
    {
      "cell_type": "code",
      "execution_count": null,
      "metadata": {
        "colab": {
          "base_uri": "https://localhost:8080/"
        },
        "id": "-9WkA8SuSXEZ",
        "outputId": "5ffa0aca-ede6-4e27-87aa-1a80d9c9b49b"
      },
      "outputs": [
        {
          "output_type": "execute_result",
          "data": {
            "text/plain": [
              "('aaaaa', 1, 'ccccccc')"
            ]
          },
          "metadata": {},
          "execution_count": 2
        }
      ],
      "source": [
        "tupla"
      ]
    },
    {
      "cell_type": "code",
      "execution_count": null,
      "metadata": {
        "colab": {
          "base_uri": "https://localhost:8080/"
        },
        "id": "ppgbc1z4SXje",
        "outputId": "d86309d0-68ef-4391-b846-8d9eccb91d28"
      },
      "outputs": [
        {
          "output_type": "execute_result",
          "data": {
            "text/plain": [
              "1"
            ]
          },
          "metadata": {},
          "execution_count": 8
        }
      ],
      "source": [
        "tupla[1]"
      ]
    },
    {
      "cell_type": "code",
      "execution_count": null,
      "metadata": {
        "colab": {
          "base_uri": "https://localhost:8080/"
        },
        "id": "sNS4EKr_SXpv",
        "outputId": "708dccc0-d242-4e4c-cb51-0a2b052dac7b"
      },
      "outputs": [
        {
          "output_type": "execute_result",
          "data": {
            "text/plain": [
              "0"
            ]
          },
          "metadata": {},
          "execution_count": 12
        }
      ],
      "source": [
        "tupla.index('aaaaa')"
      ]
    },
    {
      "cell_type": "code",
      "execution_count": null,
      "metadata": {
        "colab": {
          "base_uri": "https://localhost:8080/"
        },
        "id": "ABs3BZjNSXvu",
        "outputId": "26634be3-c1ad-4610-9d75-fa4469bceac9"
      },
      "outputs": [
        {
          "output_type": "stream",
          "name": "stdout",
          "text": [
            "aaaaa\n",
            "1\n",
            "ccccccc\n"
          ]
        }
      ],
      "source": [
        "for el in tupla:\n",
        "  print(el)"
      ]
    },
    {
      "cell_type": "code",
      "execution_count": null,
      "metadata": {
        "id": "xZJbjFhzSX1e"
      },
      "outputs": [],
      "source": []
    },
    {
      "cell_type": "markdown",
      "metadata": {
        "id": "HFNqEyPYR51P"
      },
      "source": [
        "#Listas"
      ]
    },
    {
      "cell_type": "code",
      "execution_count": null,
      "metadata": {
        "id": "CXYKKue4SVrn"
      },
      "outputs": [],
      "source": [
        "l1 = ['aaaaa', 'bbbbbb', 'ccccccc']\n",
        "l2 = ['111111', 'bb22222', '33cccc']"
      ]
    },
    {
      "cell_type": "code",
      "execution_count": null,
      "metadata": {
        "id": "SpuKy78pSVy-"
      },
      "outputs": [],
      "source": [
        "l3 = l1 + l2"
      ]
    },
    {
      "cell_type": "code",
      "execution_count": null,
      "metadata": {
        "colab": {
          "base_uri": "https://localhost:8080/"
        },
        "id": "OC534qjySV43",
        "outputId": "d5872693-d098-4095-f208-aacdfdd7329e"
      },
      "outputs": [
        {
          "data": {
            "text/plain": [
              "['aaaaa', 'bbbbbb', 'ccccccc', '111111', 'bbbbbb22222', '333333ccccccc']"
            ]
          },
          "execution_count": 127,
          "metadata": {
            "tags": []
          },
          "output_type": "execute_result"
        }
      ],
      "source": [
        "l3"
      ]
    },
    {
      "cell_type": "code",
      "execution_count": null,
      "metadata": {
        "id": "Lo7YFCSjUEnl"
      },
      "outputs": [],
      "source": [
        "l2_2 = l2 * 2"
      ]
    },
    {
      "cell_type": "code",
      "execution_count": null,
      "metadata": {
        "colab": {
          "base_uri": "https://localhost:8080/"
        },
        "id": "QRXHOz31ULvO",
        "outputId": "9bd58cb3-2c36-433a-b515-8135e55f24c8"
      },
      "outputs": [
        {
          "data": {
            "text/plain": [
              "['111111', 'bb22222', '33cccc', '111111', 'bb22222', '33cccc']"
            ]
          },
          "execution_count": 136,
          "metadata": {
            "tags": []
          },
          "output_type": "execute_result"
        }
      ],
      "source": [
        "l2_2"
      ]
    },
    {
      "cell_type": "code",
      "execution_count": null,
      "metadata": {
        "colab": {
          "base_uri": "https://localhost:8080/"
        },
        "id": "dR5PSFhXUL42",
        "outputId": "1e30be6e-1a1c-4f1f-c595-126e5cf31756"
      },
      "outputs": [
        {
          "data": {
            "text/plain": [
              "['aaaaa', 'bbbbbb']"
            ]
          },
          "execution_count": 137,
          "metadata": {
            "tags": []
          },
          "output_type": "execute_result"
        }
      ],
      "source": [
        "l1 [0:2]"
      ]
    },
    {
      "cell_type": "code",
      "execution_count": null,
      "metadata": {
        "id": "X934RecVUL_X"
      },
      "outputs": [],
      "source": [
        "l1.append('aaasdasdasd')"
      ]
    },
    {
      "cell_type": "code",
      "execution_count": null,
      "metadata": {
        "colab": {
          "base_uri": "https://localhost:8080/"
        },
        "id": "B_xKXhVVUMIW",
        "outputId": "5f33c64e-1f4d-45f3-88d1-57f6153a9c0a"
      },
      "outputs": [
        {
          "data": {
            "text/plain": [
              "['aaaaa', 'bbbbbb', 'ccccccc', 'aaasdasdasd']"
            ]
          },
          "execution_count": 139,
          "metadata": {
            "tags": []
          },
          "output_type": "execute_result"
        }
      ],
      "source": [
        "l1"
      ]
    },
    {
      "cell_type": "code",
      "execution_count": null,
      "metadata": {
        "id": "aX_37lbVUMOO"
      },
      "outputs": [],
      "source": [
        "del(l1)"
      ]
    },
    {
      "cell_type": "code",
      "execution_count": null,
      "metadata": {
        "colab": {
          "base_uri": "https://localhost:8080/"
        },
        "id": "WT0MkfFJU3ov",
        "outputId": "fc483646-5ac0-49f3-dc68-7e844bbf04c5"
      },
      "outputs": [
        {
          "name": "stdout",
          "output_type": "stream",
          "text": [
            "111111\n",
            "bb22222\n",
            "33cccc\n",
            "111111\n",
            "bb22222\n",
            "33cccc\n"
          ]
        }
      ],
      "source": [
        "for k in l2_2:\n",
        "  print(k)"
      ]
    },
    {
      "cell_type": "code",
      "execution_count": null,
      "metadata": {
        "colab": {
          "base_uri": "https://localhost:8080/"
        },
        "id": "oLHmFA-jkAqZ",
        "outputId": "f84e9025-4e66-42f2-9487-ccad8cc6717a"
      },
      "outputs": [
        {
          "name": "stdout",
          "output_type": "stream",
          "text": [
            "A ['11111', '222222', '33333333']\n",
            "B []\n",
            "C []\n",
            "####################\n",
            "A ['222222', '33333333']\n",
            "B []\n",
            "C ['11111']\n",
            "####################\n",
            "A ['33333333']\n",
            "B ['222222']\n",
            "C ['11111']\n",
            "####################\n",
            "A ['33333333']\n",
            "B ['11111', '222222']\n",
            "C []\n",
            "####################\n",
            "A []\n",
            "B ['11111', '222222']\n",
            "C ['33333333']\n",
            "####################\n",
            "A ['11111']\n",
            "B ['222222']\n",
            "C ['33333333']\n",
            "####################\n",
            "A ['11111']\n",
            "B []\n",
            "C ['222222', '33333333']\n",
            "####################\n",
            "A []\n",
            "B []\n",
            "C ['11111', '222222', '33333333']\n",
            "####################\n"
          ]
        }
      ],
      "source": [
        "lista_A = ['11111' , '222222' , '33333333']\n",
        "lista_B = [ ]\n",
        "lista_C = [ ]\n",
        "\n",
        "print ('A', lista_A)\n",
        "print ('B', lista_B)\n",
        "print ('C', lista_C)\n",
        "print (20*'#')\n",
        "\n",
        "lista_A = [ '222222' , '33333333']\n",
        "lista_B = [ ]\n",
        "lista_C = [ '11111']\n",
        "\n",
        "\n",
        "print ('A', lista_A)\n",
        "print ('B', lista_B)\n",
        "print ('C', lista_C)\n",
        "print (20*'#')\n",
        "\n",
        "\n",
        "lista_A = [  '33333333']\n",
        "lista_B = [ '222222']\n",
        "lista_C = [ '11111' ]\n",
        "\n",
        "\n",
        "print ('A', lista_A)\n",
        "print ('B', lista_B)\n",
        "print ('C', lista_C)\n",
        "print (20*'#')\n",
        "\n",
        "\n",
        "lista_A = [  '33333333']\n",
        "lista_B = [ '11111' , '222222']\n",
        "lista_C = [  ]\n",
        "\n",
        "\n",
        "print ('A', lista_A)\n",
        "print ('B', lista_B)\n",
        "print ('C', lista_C)\n",
        "print (20*'#')\n",
        "\n",
        "\n",
        "lista_A = [  ]\n",
        "lista_B = [ '11111' , '222222']\n",
        "lista_C = [ '33333333' ]\n",
        "\n",
        "\n",
        "print ('A', lista_A)\n",
        "print ('B', lista_B)\n",
        "print ('C', lista_C)\n",
        "print (20*'#')\n",
        "\n",
        "lista_A = [ '11111'  ]\n",
        "lista_B = [  '222222']\n",
        "lista_C = [ '33333333' ]\n",
        "\n",
        "\n",
        "print ('A', lista_A)\n",
        "print ('B', lista_B)\n",
        "print ('C', lista_C)\n",
        "print (20*'#')\n",
        "\n",
        "lista_A = [ '11111'  ]\n",
        "lista_B = [  ]\n",
        "lista_C = [ '222222' , '33333333' ]\n",
        "\n",
        "\n",
        "print ('A', lista_A)\n",
        "print ('B', lista_B)\n",
        "print ('C', lista_C)\n",
        "print (20*'#')\n",
        "\n",
        "\n",
        "\n",
        "lista_A = [   ]\n",
        "lista_B = [  ]\n",
        "lista_C = [ '11111' , '222222' , '33333333' ]\n",
        "\n",
        "\n",
        "print ('A', lista_A)\n",
        "print ('B', lista_B)\n",
        "print ('C', lista_C)\n",
        "print (20*'#')"
      ]
    },
    {
      "cell_type": "markdown",
      "metadata": {
        "id": "4exEWWpSR80N"
      },
      "source": [
        "#Dicionários"
      ]
    },
    {
      "cell_type": "code",
      "execution_count": null,
      "metadata": {
        "id": "1x8GPCCMSZCz"
      },
      "outputs": [],
      "source": [
        "coleta = {'aaaasss':22, 'qwerqweqe':333, 'asdasdasdgeergwerf':444, 'aa':23, 'aaa':3}"
      ]
    },
    {
      "cell_type": "code",
      "execution_count": null,
      "metadata": {
        "colab": {
          "base_uri": "https://localhost:8080/"
        },
        "id": "gfUpMsuhSZcm",
        "outputId": "8496047f-fe81-419e-b111-2cfff215f9e9"
      },
      "outputs": [
        {
          "output_type": "execute_result",
          "data": {
            "text/plain": [
              "{'aaaasss': 22, 'qwerqweqe': 333, 'asdasdasdgeergwerf': 444, 'aa': 3}"
            ]
          },
          "metadata": {},
          "execution_count": 30
        }
      ],
      "source": [
        "coleta"
      ]
    },
    {
      "cell_type": "code",
      "source": [
        "print(coleta)"
      ],
      "metadata": {
        "colab": {
          "base_uri": "https://localhost:8080/"
        },
        "id": "WeyHOHBjezgj",
        "outputId": "9a47aaa4-d871-4d5e-d554-082cd6fed756"
      },
      "execution_count": null,
      "outputs": [
        {
          "output_type": "stream",
          "name": "stdout",
          "text": [
            "{'aaaasss': 22, 'qwerqweqe': 333, 'asdasdasdgeergwerf': 444, 'aa': 3}\n"
          ]
        }
      ]
    },
    {
      "cell_type": "code",
      "execution_count": null,
      "metadata": {
        "colab": {
          "base_uri": "https://localhost:8080/"
        },
        "id": "e3k2atwLSZhW",
        "outputId": "0ebf07df-ecf3-4e7c-ae05-8c931b86d415"
      },
      "outputs": [
        {
          "output_type": "execute_result",
          "data": {
            "text/plain": [
              "33"
            ]
          },
          "metadata": {},
          "execution_count": 18
        }
      ],
      "source": [
        "coleta['aa']"
      ]
    },
    {
      "cell_type": "code",
      "execution_count": null,
      "metadata": {
        "id": "R8K4MFX6SZrG"
      },
      "outputs": [],
      "source": [
        "coleta['gggggg'] = 77"
      ]
    },
    {
      "cell_type": "code",
      "execution_count": null,
      "metadata": {
        "colab": {
          "base_uri": "https://localhost:8080/"
        },
        "id": "s4Hy8G_MSZxu",
        "outputId": "ba89a7ed-6c48-4277-cc67-3db9fd4908f1"
      },
      "outputs": [
        {
          "output_type": "stream",
          "name": "stdout",
          "text": [
            "{'aaaasss': 22, 'qwerqweqe': 333, 'asdasdasdgeergwerf': 444, 'aa': 3, 'gggggg': 77}\n"
          ]
        }
      ],
      "source": [
        "print (coleta)"
      ]
    },
    {
      "cell_type": "code",
      "execution_count": null,
      "metadata": {
        "colab": {
          "base_uri": "https://localhost:8080/"
        },
        "id": "VCYbfLiDWBl1",
        "outputId": "10e7269a-6ec8-4b73-826e-b589eebcd47f"
      },
      "outputs": [
        {
          "output_type": "stream",
          "name": "stdout",
          "text": [
            "{'qwerqweqe': 333, 'asdasdasdgeergwerf': 444, 'aa': 3, 'gggggg': 77}\n"
          ]
        }
      ],
      "source": [
        "del(coleta) ['aaaasss']\n",
        "print(coleta)"
      ]
    },
    {
      "cell_type": "code",
      "execution_count": null,
      "metadata": {
        "colab": {
          "base_uri": "https://localhost:8080/"
        },
        "id": "7cIboMSsWBtn",
        "outputId": "f9e3a3ec-1a84-4c16-e9da-ce70b7b0d7be"
      },
      "outputs": [
        {
          "output_type": "stream",
          "name": "stdout",
          "text": [
            "{'qwerqweqe': 333, 'asdasdasdgeergwerf': 444, 'aa': 3, 'gggggg': 77}\n"
          ]
        }
      ],
      "source": [
        "print(coleta)"
      ]
    },
    {
      "cell_type": "code",
      "execution_count": null,
      "metadata": {
        "colab": {
          "base_uri": "https://localhost:8080/"
        },
        "id": "LK2HLRxUWBz2",
        "outputId": "413cb4cc-d253-4005-fc32-78aa5756d94d"
      },
      "outputs": [
        {
          "output_type": "execute_result",
          "data": {
            "text/plain": [
              "dict_items([('qwerqweqe', 333), ('asdasdasdgeergwerf', 444), ('aa', 3), ('gggggg', 77)])"
            ]
          },
          "metadata": {},
          "execution_count": 41
        }
      ],
      "source": [
        "coleta.items()"
      ]
    },
    {
      "cell_type": "code",
      "execution_count": null,
      "metadata": {
        "colab": {
          "base_uri": "https://localhost:8080/"
        },
        "id": "XNdAusdoWB7G",
        "outputId": "920a5eb6-1137-46ff-b8d3-84ef0644bdde"
      },
      "outputs": [
        {
          "output_type": "execute_result",
          "data": {
            "text/plain": [
              "dict_keys(['qwerqweqe', 'asdasdasdgeergwerf', 'aa', 'gggggg'])"
            ]
          },
          "metadata": {},
          "execution_count": 42
        }
      ],
      "source": [
        "coleta.keys()"
      ]
    },
    {
      "cell_type": "code",
      "execution_count": null,
      "metadata": {
        "colab": {
          "base_uri": "https://localhost:8080/"
        },
        "id": "xL5S1I5jWtww",
        "outputId": "4c3f1b4e-2889-40ff-e203-c1b9f44e8abc"
      },
      "outputs": [
        {
          "output_type": "execute_result",
          "data": {
            "text/plain": [
              "dict_values([333, 444, 3, 77])"
            ]
          },
          "metadata": {},
          "execution_count": 43
        }
      ],
      "source": [
        "coleta.values()"
      ]
    },
    {
      "cell_type": "code",
      "execution_count": null,
      "metadata": {
        "colab": {
          "base_uri": "https://localhost:8080/"
        },
        "id": "QjkFcyxjWypl",
        "outputId": "060b647f-f2c2-4b8c-934c-a5612ed13d92"
      },
      "outputs": [
        {
          "output_type": "stream",
          "name": "stdout",
          "text": [
            "{'rrrrr': 11, 'uuu': 999}\n"
          ]
        }
      ],
      "source": [
        "col2={'rrrrr':11, 'uuu':999}\n",
        "print(col2)"
      ]
    },
    {
      "cell_type": "code",
      "execution_count": null,
      "metadata": {
        "colab": {
          "base_uri": "https://localhost:8080/"
        },
        "id": "-o-kXKsgWyvG",
        "outputId": "ca2cb65b-d6ef-4813-87db-46ea4e73e92e"
      },
      "outputs": [
        {
          "name": "stdout",
          "output_type": "stream",
          "text": [
            "{'aaaasss': 22, 'qwerqweqe': 333, 'asdasdasdgeergwerf': 444, 'aa': 33, 'rrrrr': 11, 'uuu': 999}\n"
          ]
        }
      ],
      "source": [
        "coleta.update(col2)\n",
        "print(coleta)"
      ]
    },
    {
      "cell_type": "code",
      "execution_count": null,
      "metadata": {
        "colab": {
          "base_uri": "https://localhost:8080/"
        },
        "id": "FO3kylDDWy1_",
        "outputId": "5ef80c0a-5a1a-487b-e875-7bd9bebbf7a5"
      },
      "outputs": [
        {
          "data": {
            "text/plain": [
              "dict_items([('aaaasss', 22), ('qwerqweqe', 333), ('asdasdasdgeergwerf', 444), ('aa', 33), ('rrrrr', 11), ('uuu', 999)])"
            ]
          },
          "execution_count": 38,
          "metadata": {},
          "output_type": "execute_result"
        }
      ],
      "source": [
        "coleta.items()"
      ]
    },
    {
      "cell_type": "code",
      "execution_count": null,
      "metadata": {
        "colab": {
          "base_uri": "https://localhost:8080/"
        },
        "id": "oP3qOlUmWy7m",
        "outputId": "5fc15796-e9dc-4dd2-9a3f-541bfe1cddd3"
      },
      "outputs": [
        {
          "name": "stdout",
          "output_type": "stream",
          "text": [
            "teste: aaaasss, numero: 22\n",
            "teste: qwerqweqe, numero: 333\n",
            "teste: asdasdasdgeergwerf, numero: 444\n",
            "teste: aa, numero: 33\n",
            "teste: rrrrr, numero: 11\n",
            "teste: uuu, numero: 999\n"
          ]
        }
      ],
      "source": [
        "for ts, num in coleta.items():\n",
        "  print(f'teste: {ts}, numero: {num}')"
      ]
    },
    {
      "cell_type": "code",
      "execution_count": null,
      "metadata": {
        "id": "5BdQlC-1WzCA"
      },
      "outputs": [],
      "source": []
    },
    {
      "cell_type": "markdown",
      "metadata": {
        "id": "70MKS7JnSBzP"
      },
      "source": [
        "#Conjuto(set)"
      ]
    },
    {
      "cell_type": "code",
      "execution_count": null,
      "metadata": {
        "id": "C-zf9l-iFm2P"
      },
      "outputs": [],
      "source": [
        "b1 = ('ss', 'asd', 'fff', 'fff', 'ss')"
      ]
    },
    {
      "cell_type": "code",
      "execution_count": null,
      "metadata": {
        "colab": {
          "base_uri": "https://localhost:8080/"
        },
        "id": "FocVzYtPD0aX",
        "outputId": "c0c2a544-605a-4280-ad46-20b976010ac6"
      },
      "outputs": [
        {
          "name": "stdout",
          "output_type": "stream",
          "text": [
            "('ss', 'asd', 'fff', 'fff', 'ss')\n"
          ]
        }
      ],
      "source": [
        "print(b1)"
      ]
    },
    {
      "cell_type": "code",
      "execution_count": null,
      "metadata": {
        "colab": {
          "base_uri": "https://localhost:8080/"
        },
        "id": "eFDcRQidSgqG",
        "outputId": "eb0cc1df-e79c-4d4b-f777-3eb11e14553c"
      },
      "outputs": [
        {
          "name": "stdout",
          "output_type": "stream",
          "text": [
            "{'fff', 'asd', 'ss'}\n"
          ]
        }
      ],
      "source": [
        "print(set(b1))"
      ]
    },
    {
      "cell_type": "code",
      "execution_count": null,
      "metadata": {
        "id": "-PQri0LwSgv-"
      },
      "outputs": [],
      "source": [
        "c1 = {1,2,3,4,5}\n",
        "c2 = {3,4,5,6,7,8}\n",
        "c3 = c1.intersection(c2)"
      ]
    },
    {
      "cell_type": "code",
      "execution_count": null,
      "metadata": {
        "colab": {
          "base_uri": "https://localhost:8080/"
        },
        "id": "BpUkfePTSg0_",
        "outputId": "0a945b8a-7f45-4a0b-dfac-353fb5d44d97"
      },
      "outputs": [
        {
          "name": "stdout",
          "output_type": "stream",
          "text": [
            "{3, 4, 5}\n"
          ]
        }
      ],
      "source": [
        "print(c3)"
      ]
    },
    {
      "cell_type": "code",
      "execution_count": null,
      "metadata": {
        "colab": {
          "base_uri": "https://localhost:8080/"
        },
        "id": "FaD4ydhhZa0v",
        "outputId": "0de08b8b-0eb8-44cf-c030-3afba80d7075"
      },
      "outputs": [
        {
          "output_type": "execute_result",
          "data": {
            "text/plain": [
              "{1, 2}"
            ]
          },
          "metadata": {},
          "execution_count": 46
        }
      ],
      "source": [
        "c1.difference(c2)"
      ]
    },
    {
      "cell_type": "code",
      "source": [
        "c2.difference(c1)"
      ],
      "metadata": {
        "colab": {
          "base_uri": "https://localhost:8080/"
        },
        "id": "cIOli6AqodZ5",
        "outputId": "d5c87b30-fd8d-476c-ad11-8e8692386418"
      },
      "execution_count": null,
      "outputs": [
        {
          "output_type": "execute_result",
          "data": {
            "text/plain": [
              "{6, 7, 8}"
            ]
          },
          "metadata": {},
          "execution_count": 47
        }
      ]
    },
    {
      "cell_type": "code",
      "execution_count": null,
      "metadata": {
        "id": "G2AQiZoAZaxq"
      },
      "outputs": [],
      "source": []
    },
    {
      "cell_type": "markdown",
      "metadata": {
        "id": "W1fY4Z7WZraV"
      },
      "source": [
        "#Matrizes"
      ]
    },
    {
      "cell_type": "code",
      "execution_count": null,
      "metadata": {
        "id": "hvmH29heZaul"
      },
      "outputs": [],
      "source": [
        "import numpy as np"
      ]
    },
    {
      "cell_type": "code",
      "execution_count": null,
      "metadata": {
        "id": "QW2uG1EBZanv"
      },
      "outputs": [],
      "source": [
        "mt = np.array([[2,3,4], [4,5,7]])\n"
      ]
    },
    {
      "cell_type": "code",
      "execution_count": null,
      "metadata": {
        "colab": {
          "base_uri": "https://localhost:8080/"
        },
        "id": "uF8_idrYZafD",
        "outputId": "da0b3da5-ee91-499e-cd6b-066b13347157"
      },
      "outputs": [
        {
          "data": {
            "text/plain": [
              "array([[2, 3, 4],\n",
              "       [4, 5, 7]])"
            ]
          },
          "execution_count": 177,
          "metadata": {
            "tags": []
          },
          "output_type": "execute_result"
        }
      ],
      "source": [
        "mt"
      ]
    },
    {
      "cell_type": "code",
      "execution_count": null,
      "metadata": {
        "colab": {
          "base_uri": "https://localhost:8080/"
        },
        "id": "mKp9mIjLZaUf",
        "outputId": "a80310a1-482a-49b0-91af-942e673a2d60"
      },
      "outputs": [
        {
          "data": {
            "text/plain": [
              "(2, 3)"
            ]
          },
          "execution_count": 187,
          "metadata": {
            "tags": []
          },
          "output_type": "execute_result"
        }
      ],
      "source": [
        "mt.shape"
      ]
    },
    {
      "cell_type": "code",
      "execution_count": null,
      "metadata": {
        "colab": {
          "base_uri": "https://localhost:8080/"
        },
        "id": "_p-APMkiad9Y",
        "outputId": "f4a912d0-c5f0-4251-ea48-53cc7b8f4e2a"
      },
      "outputs": [
        {
          "data": {
            "text/plain": [
              "array([2, 3, 4])"
            ]
          },
          "execution_count": 180,
          "metadata": {
            "tags": []
          },
          "output_type": "execute_result"
        }
      ],
      "source": [
        "mt[0]"
      ]
    },
    {
      "cell_type": "code",
      "execution_count": null,
      "metadata": {
        "colab": {
          "base_uri": "https://localhost:8080/"
        },
        "id": "r_cV0B9Vad7X",
        "outputId": "4f1facd0-a2be-4726-a7db-be18b1c0da89"
      },
      "outputs": [
        {
          "data": {
            "text/plain": [
              "array([4, 5, 7])"
            ]
          },
          "execution_count": 181,
          "metadata": {
            "tags": []
          },
          "output_type": "execute_result"
        }
      ],
      "source": [
        "mt[1]"
      ]
    },
    {
      "cell_type": "code",
      "execution_count": null,
      "metadata": {
        "colab": {
          "base_uri": "https://localhost:8080/"
        },
        "id": "vKXUs8UIad4R",
        "outputId": "6ab3cf95-b5a3-4908-8322-2eb0cdc6febc"
      },
      "outputs": [
        {
          "data": {
            "text/plain": [
              "4"
            ]
          },
          "execution_count": 183,
          "metadata": {
            "tags": []
          },
          "output_type": "execute_result"
        }
      ],
      "source": [
        "mt[0][2]"
      ]
    },
    {
      "cell_type": "code",
      "execution_count": null,
      "metadata": {
        "colab": {
          "base_uri": "https://localhost:8080/"
        },
        "id": "J-GhwbCvad1W",
        "outputId": "d35e32e2-3fc7-4696-9d3a-d951c3e61f08"
      },
      "outputs": [
        {
          "data": {
            "text/plain": [
              "7"
            ]
          },
          "execution_count": 184,
          "metadata": {
            "tags": []
          },
          "output_type": "execute_result"
        }
      ],
      "source": [
        "mt[1][2]"
      ]
    },
    {
      "cell_type": "code",
      "execution_count": null,
      "metadata": {
        "colab": {
          "base_uri": "https://localhost:8080/"
        },
        "id": "h4-KojBFadtV",
        "outputId": "174a98e4-7a18-45fa-fcc9-9f9f1cbc6133"
      },
      "outputs": [
        {
          "name": "stdout",
          "output_type": "stream",
          "text": [
            "[2 3 4]\n",
            "2\n",
            "3\n",
            "4\n",
            "[4 5 7]\n",
            "4\n",
            "5\n",
            "7\n"
          ]
        }
      ],
      "source": [
        "for i in range(mt.shape[0]):\n",
        "  print(mt[i])\n",
        "  for j in range(mt.shape[1]):\n",
        "    print(mt[i][j])"
      ]
    },
    {
      "cell_type": "code",
      "execution_count": null,
      "metadata": {
        "colab": {
          "base_uri": "https://localhost:8080/"
        },
        "id": "neY8gVYYeyOW",
        "outputId": "dad9031f-a40e-4634-a1f7-37f3f96c8a0e"
      },
      "outputs": [
        {
          "name": "stdout",
          "output_type": "stream",
          "text": [
            "entre com o numero de alunos:2\n",
            "ente com o numeros de notas:2\n",
            "digite o nome : aaaa\n",
            "digite a nota: 3\n",
            "digite a nota: 4\n",
            "digite o nome : bbbbb\n",
            "digite a nota: 5\n",
            "digite a nota: 6\n",
            "['aaaa', 'bbbbb']\n",
            "[3.0, 4.0, 5.0, 6.0]\n"
          ]
        }
      ],
      "source": [
        "num_alunos = int(input('entre com o numero de alunos:'))\n",
        "num_notas = int(input('ente com o numeros de notas:'))\n",
        "turma1 = [ ]\n",
        "notas1 = [ ]\n",
        "for i in range(0,num_alunos):\n",
        "  nome = input('digite o nome : ')\n",
        "  turma1.append(nome)\n",
        "  for j in range (num_notas):\n",
        "    nota = float(input('digite a nota: '))\n",
        "    notas1.append(nota)\n",
        "print (turma1)\n",
        "print (notas1)"
      ]
    },
    {
      "cell_type": "code",
      "execution_count": null,
      "metadata": {
        "colab": {
          "base_uri": "https://localhost:8080/"
        },
        "id": "pYx5RfpkjL49",
        "outputId": "1fdd7394-2d92-4a1a-b4b6-1161f298b66d"
      },
      "outputs": [
        {
          "name": "stdout",
          "output_type": "stream",
          "text": [
            "entre com o numero de alunos:2\n",
            "ente com o numeros de notas:2\n",
            "digite o nome : aaaa\n",
            "digite a nota: 2\n",
            "digite a nota: 3\n",
            "digite o nome : ffff\n",
            "digite a nota: 4\n",
            "digite a nota: 5\n",
            "['aaaa', [2.0, 3.0, 4.0, 5.0], 'ffff', [2.0, 3.0, 4.0, 5.0]]\n"
          ]
        }
      ],
      "source": [
        "num_alunos = int(input('entre com o numero de alunos:'))\n",
        "num_notas = int(input('ente com o numeros de notas:'))\n",
        "turma1 = [ ]\n",
        "notas1 = [ ]\n",
        "for i in range(num_alunos):\n",
        "  turma1.append(input('digite o nome : '))\n",
        "  for j in range (num_notas):\n",
        "    notas1.append(float(input('digite a nota: ')))\n",
        "  turma1.append(notas1)\n",
        "print (turma1)\n"
      ]
    },
    {
      "cell_type": "code",
      "execution_count": null,
      "metadata": {
        "colab": {
          "base_uri": "https://localhost:8080/"
        },
        "id": "kIcWFVPimjyS",
        "outputId": "b4053a31-da21-4d3e-de62-2271a9e49852"
      },
      "outputs": [
        {
          "output_type": "stream",
          "name": "stdout",
          "text": [
            "entre com o numero de linhas:2\n",
            "ente com o numeros de colunas:2\n",
            "ente com o numeros de turma2\n",
            "digite um numero: 1\n",
            "[1.0]\n",
            "digite um numero: 2\n",
            "[1.0, 2.0]\n",
            "[[1.0, 2.0]]\n",
            "digite um numero: 3\n",
            "[3.0]\n",
            "digite um numero: 4\n",
            "[3.0, 4.0]\n",
            "[[1.0, 2.0], [3.0, 4.0]]\n",
            "digite um numero: 5\n",
            "[5.0]\n",
            "digite um numero: 6\n",
            "[5.0, 6.0]\n",
            "[[5.0, 6.0]]\n",
            "digite um numero: 7\n",
            "[7.0]\n",
            "digite um numero: 8\n",
            "[7.0, 8.0]\n",
            "[[5.0, 6.0], [7.0, 8.0]]\n",
            "[[[1.0, 2.0], [3.0, 4.0]], [[5.0, 6.0], [7.0, 8.0]]]\n"
          ]
        }
      ],
      "source": [
        "linha = int(input('entre com o numero de linhas:'))\n",
        "colunas = int(input('ente com o numeros de colunas:'))\n",
        "turma = int(input('ente com o numeros de turma'))\n",
        "turma1 = [ ]\n",
        "\n",
        "for k in range (turma):\n",
        "  matriz1 = [ ]\n",
        "  for i in range (linha):\n",
        "    linha1 = [ ]\n",
        "    for j in range (colunas):\n",
        "      linha1.append(float(input('digite um numero: ')))\n",
        "      print(linha1)\n",
        "    matriz1.append(linha1)\n",
        "    print (matriz1)\n",
        "  turma1.append(matriz1)\n",
        "print (turma1)\n"
      ]
    },
    {
      "cell_type": "markdown",
      "metadata": {
        "id": "VfM1VOa-1Fba"
      },
      "source": [
        "## EX1 Lista2"
      ]
    },
    {
      "cell_type": "code",
      "execution_count": null,
      "metadata": {
        "colab": {
          "base_uri": "https://localhost:8080/"
        },
        "id": "iWAStCvT1NOL",
        "outputId": "c297a36a-2fcb-49ec-c507-4294ae7e9b86"
      },
      "outputs": [
        {
          "name": "stdout",
          "output_type": "stream",
          "text": [
            "digite o Valor: 1\n",
            "digite o Valor: 2\n",
            "digite o Valor: 3\n",
            "digite o Valor: 4\n",
            "digite o Valor: 5\n"
          ]
        }
      ],
      "source": [
        "lista = []\n",
        "for _ in range(1,6):\n",
        "  valor = int(input('digite o Valor: '))\n",
        "  lista.append(valor)"
      ]
    },
    {
      "cell_type": "code",
      "execution_count": null,
      "metadata": {
        "colab": {
          "base_uri": "https://localhost:8080/"
        },
        "id": "3wAVte6I1E6S",
        "outputId": "6fa6afe4-46d4-4070-a45e-7e8aca65cc21"
      },
      "outputs": [
        {
          "name": "stdout",
          "output_type": "stream",
          "text": [
            "1\n",
            "2\n",
            "3\n",
            "4\n",
            "5\n",
            "15\n"
          ]
        }
      ],
      "source": [
        "soma = 0\n",
        "for i in range(len(lista)):\n",
        "  print(lista[i])\n",
        "  soma += lista[i]\n",
        "print(soma)\n",
        "\n"
      ]
    },
    {
      "cell_type": "code",
      "execution_count": null,
      "metadata": {
        "colab": {
          "base_uri": "https://localhost:8080/"
        },
        "id": "oXxiSXun2bni",
        "outputId": "ac2e24b4-aa34-4e52-c2c4-331284c1c71e"
      },
      "outputs": [
        {
          "data": {
            "text/plain": [
              "15"
            ]
          },
          "execution_count": 7,
          "metadata": {},
          "output_type": "execute_result"
        }
      ],
      "source": [
        "import numpy as np\n",
        "np.array(lista).sum()"
      ]
    },
    {
      "cell_type": "markdown",
      "metadata": {
        "id": "kUjCimnB2xuI"
      },
      "source": [
        "##EX Dic"
      ]
    },
    {
      "cell_type": "code",
      "execution_count": null,
      "metadata": {
        "colab": {
          "base_uri": "https://localhost:8080/"
        },
        "id": "2Yv1VjiI2t4_",
        "outputId": "bef35adf-b019-4b07-afc6-bcb57e7a9666"
      },
      "outputs": [
        {
          "name": "stdout",
          "output_type": "stream",
          "text": [
            "digite o nome : ale\n",
            "digite a nota: 4\n",
            "digite o nome : ser\n",
            "digite a nota: 3\n",
            "digite o nome : cas\n",
            "digite a nota: 1\n"
          ]
        }
      ],
      "source": [
        "alunos = {}\n",
        "for _ in range(1, 4):\n",
        "  nome = input('digite o nome : ')\n",
        "  nota = float(input('digite a nota: '))\n",
        "  alunos[nome] = nota\n"
      ]
    },
    {
      "cell_type": "code",
      "execution_count": null,
      "metadata": {
        "colab": {
          "base_uri": "https://localhost:8080/"
        },
        "id": "rhC8V4Tm2uSm",
        "outputId": "55094bf3-c0d9-4f11-c601-398ecfd8d870"
      },
      "outputs": [
        {
          "data": {
            "text/plain": [
              "{'ale': 4.0, 'cas': 1.0, 'ser': 3.0}"
            ]
          },
          "execution_count": 12,
          "metadata": {},
          "output_type": "execute_result"
        }
      ],
      "source": [
        "alunos"
      ]
    },
    {
      "cell_type": "code",
      "execution_count": null,
      "metadata": {
        "colab": {
          "base_uri": "https://localhost:8080/"
        },
        "id": "jkX5wkWv2ucj",
        "outputId": "ad84ba2e-3b6f-4abe-b7be-53d31b529059"
      },
      "outputs": [
        {
          "data": {
            "text/plain": [
              "4.0"
            ]
          },
          "execution_count": 13,
          "metadata": {},
          "output_type": "execute_result"
        }
      ],
      "source": [
        "alunos['ale']"
      ]
    },
    {
      "cell_type": "code",
      "execution_count": null,
      "metadata": {
        "colab": {
          "base_uri": "https://localhost:8080/"
        },
        "id": "htrG014o344r",
        "outputId": "462ca3d4-b74b-40a5-b4cf-ea48e858c37f"
      },
      "outputs": [
        {
          "data": {
            "text/plain": [
              "dict_values([4.0, 3.0, 1.0])"
            ]
          },
          "execution_count": 14,
          "metadata": {},
          "output_type": "execute_result"
        }
      ],
      "source": [
        "alunos.values()"
      ]
    },
    {
      "cell_type": "code",
      "execution_count": null,
      "metadata": {
        "colab": {
          "base_uri": "https://localhost:8080/"
        },
        "id": "mpO1qkX14BlO",
        "outputId": "8a722b10-8201-4043-a583-1958a0b5fee2"
      },
      "outputs": [
        {
          "name": "stdout",
          "output_type": "stream",
          "text": [
            "4.0\n",
            "3.0\n",
            "1.0\n",
            "media:  2.6666666666666665\n"
          ]
        }
      ],
      "source": [
        "soma = 0\n",
        "for nota in alunos.values():\n",
        "  print(nota)\n",
        "  soma += nota\n",
        "print('media: ', soma/3)"
      ]
    },
    {
      "cell_type": "markdown",
      "metadata": {
        "id": "Oh70riEe4fdr"
      },
      "source": [
        "##Ex Matriz"
      ]
    },
    {
      "cell_type": "code",
      "execution_count": null,
      "metadata": {
        "colab": {
          "base_uri": "https://localhost:8080/"
        },
        "id": "HWTqERuw4cPb",
        "outputId": "94605351-c974-4a2d-e9c8-6626485e1063"
      },
      "outputs": [
        {
          "data": {
            "text/plain": [
              "array([[3, 4, 1],\n",
              "       [3, 1, 5]])"
            ]
          },
          "execution_count": 23,
          "metadata": {},
          "output_type": "execute_result"
        }
      ],
      "source": [
        "matriz = np.array([[3, 4, 1],\n",
        "                   [3, 1, 5]])\n",
        "matriz"
      ]
    },
    {
      "cell_type": "code",
      "execution_count": null,
      "metadata": {
        "colab": {
          "base_uri": "https://localhost:8080/"
        },
        "id": "afrKxpdv4c1A",
        "outputId": "4523c8c4-988c-4097-c2eb-c1292a6e5943"
      },
      "outputs": [
        {
          "data": {
            "text/plain": [
              "(2, 3)"
            ]
          },
          "execution_count": 24,
          "metadata": {},
          "output_type": "execute_result"
        }
      ],
      "source": [
        "matriz.shape"
      ]
    },
    {
      "cell_type": "code",
      "execution_count": null,
      "metadata": {
        "colab": {
          "base_uri": "https://localhost:8080/"
        },
        "id": "_pdnJKlV4dCS",
        "outputId": "096071a5-ec24-4493-c574-fccf7c148c6e"
      },
      "outputs": [
        {
          "name": "stdout",
          "output_type": "stream",
          "text": [
            "3\n",
            "4\n",
            "1\n",
            "3\n",
            "1\n",
            "5\n",
            "soma:  17\n"
          ]
        }
      ],
      "source": [
        "soma = 0\n",
        "for i in range(matriz.shape[0]):\n",
        "  for j in range(matriz.shape[1]):\n",
        "    print(matriz[i][j])\n",
        "    soma = matriz[i][j]\n",
        "print('soma: ', soma)"
      ]
    },
    {
      "cell_type": "markdown",
      "metadata": {
        "id": "8QdiJxk_6Q9c"
      },
      "source": [
        "#Funções"
      ]
    },
    {
      "cell_type": "markdown",
      "metadata": {
        "id": "Lbk-6ZRD6c-y"
      },
      "source": [
        "## Função sem parametro e sem retorno"
      ]
    },
    {
      "cell_type": "code",
      "execution_count": null,
      "metadata": {
        "id": "_9Sq7-WZ4dOI"
      },
      "outputs": [],
      "source": [
        "def mensagem():\n",
        "  print('teste da função')"
      ]
    },
    {
      "cell_type": "code",
      "execution_count": null,
      "metadata": {
        "colab": {
          "base_uri": "https://localhost:8080/"
        },
        "id": "gCVEKr436aZc",
        "outputId": "86bb3586-d2e1-4a8a-fa07-901e74b1626f"
      },
      "outputs": [
        {
          "name": "stdout",
          "output_type": "stream",
          "text": [
            "teste da função\n",
            "teste da função\n",
            "teste da função\n"
          ]
        }
      ],
      "source": [
        "mensagem()\n",
        "mensagem()\n",
        "mensagem()"
      ]
    },
    {
      "cell_type": "markdown",
      "metadata": {
        "id": "S02RNiUk63t6"
      },
      "source": [
        "## Função com passagem de parametro"
      ]
    },
    {
      "cell_type": "code",
      "execution_count": null,
      "metadata": {
        "id": "ZU3b1FkK6agA"
      },
      "outputs": [],
      "source": [
        "def mensagem(texto):\n",
        "  print(texto)"
      ]
    },
    {
      "cell_type": "code",
      "execution_count": null,
      "metadata": {
        "colab": {
          "base_uri": "https://localhost:8080/"
        },
        "id": "FUdQVJyn6amS",
        "outputId": "09c08120-5d80-4d64-b314-c07618eb346f"
      },
      "outputs": [
        {
          "name": "stdout",
          "output_type": "stream",
          "text": [
            "tsdfsdfsdf\n",
            "texto sdfasfas2\n",
            "textsadfsfasdfo 3\n"
          ]
        }
      ],
      "source": [
        "mensagem('tsdfsdfsdf')\n",
        "mensagem('texto sdfasfas2')\n",
        "mensagem('textsadfsfasdfo 3')"
      ]
    },
    {
      "cell_type": "code",
      "execution_count": null,
      "metadata": {
        "id": "zYe_3W8a7XvP"
      },
      "outputs": [],
      "source": [
        "def soma(a,b):\n",
        "  print(a + b)"
      ]
    },
    {
      "cell_type": "code",
      "execution_count": null,
      "metadata": {
        "colab": {
          "base_uri": "https://localhost:8080/"
        },
        "id": "dgo3fx_d7X2a",
        "outputId": "d1710318-37f3-4dfe-bc1e-aada5a8b8c64"
      },
      "outputs": [
        {
          "name": "stdout",
          "output_type": "stream",
          "text": [
            "3688\n"
          ]
        }
      ],
      "source": [
        "soma(244, 3444)"
      ]
    },
    {
      "cell_type": "code",
      "execution_count": null,
      "metadata": {
        "colab": {
          "base_uri": "https://localhost:8080/"
        },
        "id": "m8kaC5Xo7YB6",
        "outputId": "0dd4e247-2c61-46be-d93c-41fe58edb8c9"
      },
      "outputs": [
        {
          "name": "stdout",
          "output_type": "stream",
          "text": [
            "6\n",
            "76\n"
          ]
        }
      ],
      "source": [
        "soma(3, 3)\n",
        "soma(33, 43)"
      ]
    },
    {
      "cell_type": "markdown",
      "metadata": {
        "id": "nnXDcclr72tX"
      },
      "source": [
        "## Função com passagem de parametro e retorno"
      ]
    },
    {
      "cell_type": "code",
      "execution_count": null,
      "metadata": {
        "id": "V2IUONdG7-W7"
      },
      "outputs": [],
      "source": [
        "def soma(a,b):\n",
        "  return a + b"
      ]
    },
    {
      "cell_type": "code",
      "execution_count": null,
      "metadata": {
        "colab": {
          "base_uri": "https://localhost:8080/"
        },
        "id": "JjUpanLO7_D0",
        "outputId": "b2e88067-c19f-4596-a387-e23f6a47c387"
      },
      "outputs": [
        {
          "data": {
            "text/plain": [
              "7"
            ]
          },
          "execution_count": 14,
          "metadata": {},
          "output_type": "execute_result"
        }
      ],
      "source": [
        "soma(3, 4)"
      ]
    },
    {
      "cell_type": "code",
      "execution_count": null,
      "metadata": {
        "colab": {
          "base_uri": "https://localhost:8080/"
        },
        "id": "p5viYkE47_Ua",
        "outputId": "cc26e82c-5752-42cf-9d6b-e298fed4df2d"
      },
      "outputs": [
        {
          "name": "stdout",
          "output_type": "stream",
          "text": [
            "5\n"
          ]
        }
      ],
      "source": [
        "r = soma(3, 2)\n",
        "print(r)"
      ]
    },
    {
      "cell_type": "code",
      "execution_count": null,
      "metadata": {
        "id": "3_4T4IF37_cU"
      },
      "outputs": [],
      "source": [
        "def calcula(m, h, g = 10):\n",
        "  '''\n",
        "  descriçao da função\n",
        "  blablablablablablablablablabla\n",
        "  blablablablablablablabla\n",
        "  blablablablablablablabla\n",
        "  '''\n",
        "  e = g * h * m\n",
        "  return e\n"
      ]
    },
    {
      "cell_type": "code",
      "execution_count": null,
      "metadata": {
        "colab": {
          "base_uri": "https://localhost:8080/"
        },
        "id": "6VagNrXi82-L",
        "outputId": "943261f6-0e23-44db-d84c-ab0b3ebca29f"
      },
      "outputs": [
        {
          "data": {
            "text/plain": [
              "1200"
            ]
          },
          "execution_count": 19,
          "metadata": {},
          "output_type": "execute_result"
        }
      ],
      "source": [
        "calcula(10, 12)"
      ]
    },
    {
      "cell_type": "code",
      "execution_count": null,
      "metadata": {
        "colab": {
          "base_uri": "https://localhost:8080/"
        },
        "id": "pwj3_EEU83On",
        "outputId": "4e82e7d1-55be-43ba-df83-6f78739fefa2"
      },
      "outputs": [
        {
          "data": {
            "text/plain": [
              "1176.0"
            ]
          },
          "execution_count": 20,
          "metadata": {},
          "output_type": "execute_result"
        }
      ],
      "source": [
        "calcula(10, 12, 9.8)"
      ]
    },
    {
      "cell_type": "code",
      "execution_count": null,
      "metadata": {
        "colab": {
          "base_uri": "https://localhost:8080/"
        },
        "id": "m5UfYgxC83aw",
        "outputId": "4ff7b6f1-c09f-4d28-8ef3-98a6bb3c5690"
      },
      "outputs": [
        {
          "name": "stdout",
          "output_type": "stream",
          "text": [
            "Help on function calcula in module __main__:\n",
            "\n",
            "calcula(m, h, g=10)\n",
            "    descriçao da função\n",
            "    blablablablablablablablablabla\n",
            "    blablablablablablablabla\n",
            "    blablablablablablablabla\n",
            "\n"
          ]
        }
      ],
      "source": [
        "help(calcula)"
      ]
    },
    {
      "cell_type": "markdown",
      "metadata": {
        "id": "oqqdx3LCDaXZ"
      },
      "source": [
        "#Modulos Math, datetime, random e time"
      ]
    },
    {
      "cell_type": "markdown",
      "metadata": {
        "id": "deoeAh4a_ZYS"
      },
      "source": [
        "#Modulos personalisados\n",
        "#### abrir anaconda depois spyder e implenetar o modulo que deseja em py"
      ]
    },
    {
      "cell_type": "code",
      "execution_count": null,
      "metadata": {
        "id": "jLNA5sbO_tpS"
      },
      "outputs": [],
      "source": [
        "import modulo_personalisado as ut"
      ]
    },
    {
      "cell_type": "code",
      "execution_count": null,
      "metadata": {
        "colab": {
          "base_uri": "https://localhost:8080/"
        },
        "id": "xJIp7zUaAUoA",
        "outputId": "d61effb5-d714-4201-ada5-50a1bf978866"
      },
      "outputs": [
        {
          "data": {
            "text/plain": [
              "6"
            ]
          },
          "execution_count": 2,
          "metadata": {},
          "output_type": "execute_result"
        }
      ],
      "source": [
        "ut.soma(1,2,3)"
      ]
    },
    {
      "cell_type": "code",
      "execution_count": null,
      "metadata": {
        "colab": {
          "base_uri": "https://localhost:8080/"
        },
        "id": "xbulVzRpAVrf",
        "outputId": "b78fd487-5a9f-4d3c-9aa0-e6c34f00bfc1"
      },
      "outputs": [
        {
          "data": {
            "text/plain": [
              "24"
            ]
          },
          "execution_count": 43,
          "metadata": {},
          "output_type": "execute_result"
        }
      ],
      "source": [
        "ut.mult(4,2,3)"
      ]
    },
    {
      "cell_type": "code",
      "execution_count": null,
      "metadata": {
        "colab": {
          "base_uri": "https://localhost:8080/"
        },
        "id": "jtgnKgeCAVcH",
        "outputId": "3d1903cb-87da-423f-e98b-ccd63717a588"
      },
      "outputs": [
        {
          "data": {
            "text/plain": [
              "True"
            ]
          },
          "execution_count": 44,
          "metadata": {},
          "output_type": "execute_result"
        }
      ],
      "source": [
        "ut.palind('abccba')"
      ]
    },
    {
      "cell_type": "code",
      "execution_count": null,
      "metadata": {
        "id": "ryTBTp31AVGb"
      },
      "outputs": [],
      "source": [
        "t = 'abccba'"
      ]
    },
    {
      "cell_type": "code",
      "execution_count": null,
      "metadata": {
        "colab": {
          "base_uri": "https://localhost:8080/",
          "height": 35
        },
        "id": "r2uqGPs7As0y",
        "outputId": "a19a23f9-e8b6-422f-d79d-f2666dc3efd9"
      },
      "outputs": [
        {
          "data": {
            "application/vnd.google.colaboratory.intrinsic+json": {
              "type": "string"
            },
            "text/plain": [
              "'abccba'"
            ]
          },
          "execution_count": 47,
          "metadata": {},
          "output_type": "execute_result"
        }
      ],
      "source": [
        "t[::-1]"
      ]
    },
    {
      "cell_type": "code",
      "execution_count": null,
      "metadata": {
        "colab": {
          "base_uri": "https://localhost:8080/",
          "height": 35
        },
        "id": "T_-X13EJAsl6",
        "outputId": "721e2f8a-5190-4228-9666-c198eadb98ef"
      },
      "outputs": [
        {
          "data": {
            "application/vnd.google.colaboratory.intrinsic+json": {
              "type": "string"
            },
            "text/plain": [
              "'cba'"
            ]
          },
          "execution_count": 48,
          "metadata": {},
          "output_type": "execute_result"
        }
      ],
      "source": [
        "t1 = 'abc'\n",
        "t1[::-1]"
      ]
    },
    {
      "cell_type": "code",
      "execution_count": null,
      "metadata": {
        "colab": {
          "base_uri": "https://localhost:8080/"
        },
        "id": "EUJlYjpFBnpO",
        "outputId": "4ff79caa-b3af-404a-9f81-329550bf37bf"
      },
      "outputs": [
        {
          "data": {
            "text/plain": [
              "2.0"
            ]
          },
          "execution_count": 3,
          "metadata": {},
          "output_type": "execute_result"
        }
      ],
      "source": [
        "ut.div(8,4)"
      ]
    },
    {
      "cell_type": "markdown",
      "metadata": {
        "id": "L9uj5isZ9qvp"
      },
      "source": [
        "#Manipulação de Arquivos"
      ]
    },
    {
      "cell_type": "code",
      "execution_count": null,
      "metadata": {
        "colab": {
          "base_uri": "https://localhost:8080/"
        },
        "id": "RM-X3szR9v1o",
        "outputId": "412b0fc7-858f-4a6a-8a99-b23664d5ca73"
      },
      "outputs": [
        {
          "name": "stdout",
          "output_type": "stream",
          "text": [
            "olá\n",
            "\n",
            "Os ponteiros podem existir nativamente no Python?\n",
            "\n",
            " Provavelmente, mas aparentemente, os indicadores contradizem o conceito de Zen de Python \n",
            "\n",
            "blablablablablablablabla\n",
            "\n",
            "blablablablablablablablablabla\n",
            "\n",
            "blablablablablablablablablablablabla\n",
            "\n",
            "blablablablablabla\n"
          ]
        }
      ],
      "source": [
        "with open('/content/frases.txt') as text:\n",
        "  for linha in text:\n",
        "   print(linha)"
      ]
    },
    {
      "cell_type": "code",
      "execution_count": null,
      "metadata": {
        "colab": {
          "base_uri": "https://localhost:8080/"
        },
        "id": "3sMDuRcTFwhs",
        "outputId": "4718a638-f2fd-4569-e262-3fcc1f196d4c"
      },
      "outputs": [
        {
          "name": "stdout",
          "output_type": "stream",
          "text": [
            "olá\n",
            "\n",
            "Os ponteiros podem existir nativamente no Python?\n",
            "\n",
            " Provavelmente, mas aparentemente, os indicadores contradizem o conceito de Zen de Python \n",
            "\n",
            "blablablablablablablabla\n",
            "\n",
            "blablablablablablablablablabla\n",
            "\n",
            "blablablablablablablablablablablabla\n",
            "\n",
            "blablablablablabla\n"
          ]
        }
      ],
      "source": [
        "with open('/content/frases.txt', 'r') as text:\n",
        "  for linha in text:\n",
        "   print(linha)"
      ]
    },
    {
      "cell_type": "code",
      "execution_count": null,
      "metadata": {
        "id": "wi2upFCK9v8D"
      },
      "outputs": [],
      "source": [
        "with open('/content/frases.txt') as text:\n",
        "  r = text.readlines()"
      ]
    },
    {
      "cell_type": "code",
      "execution_count": null,
      "metadata": {
        "colab": {
          "base_uri": "https://localhost:8080/"
        },
        "id": "Zo-mhIWG9wDM",
        "outputId": "3af8a83a-af4a-4d0f-b722-52d3373394fb"
      },
      "outputs": [
        {
          "data": {
            "text/plain": [
              "['olá\\n',\n",
              " 'Os ponteiros podem existir nativamente no Python?\\n',\n",
              " ' Provavelmente, mas aparentemente, os indicadores contradizem o conceito de Zen de Python \\n',\n",
              " 'blablablablablablablabla\\n',\n",
              " 'blablablablablablablablablabla\\n',\n",
              " 'blablablablablablablablablablablabla\\n',\n",
              " 'blablablablablabla']"
            ]
          },
          "execution_count": 7,
          "metadata": {},
          "output_type": "execute_result"
        }
      ],
      "source": [
        "r"
      ]
    },
    {
      "cell_type": "code",
      "execution_count": null,
      "metadata": {
        "id": "IEBs30qG9wJq"
      },
      "outputs": [],
      "source": [
        "with open('texto2.txt', 'w') as texto:\n",
        "  texto.write('olaaaaaaa todos')"
      ]
    },
    {
      "cell_type": "code",
      "execution_count": null,
      "metadata": {
        "colab": {
          "base_uri": "https://localhost:8080/"
        },
        "id": "gwbyHcVl9wQi",
        "outputId": "f3dec4f1-431e-4a68-e9c0-02ea21336640"
      },
      "outputs": [
        {
          "name": "stdout",
          "output_type": "stream",
          "text": [
            "olaaaaaaa todos\n"
          ]
        }
      ],
      "source": [
        "with open('texto2.txt', 'r') as text:\n",
        "  for linha in text:\n",
        "   print(linha)"
      ]
    },
    {
      "cell_type": "markdown",
      "metadata": {
        "id": "GpEjfGSA0yo1"
      },
      "source": [
        "#Vetor não Ordenado"
      ]
    },
    {
      "cell_type": "code",
      "execution_count": null,
      "metadata": {
        "id": "wfLaqs_u7WrA"
      },
      "outputs": [],
      "source": []
    },
    {
      "cell_type": "code",
      "execution_count": null,
      "metadata": {
        "id": "sFb3P1JV2rRZ"
      },
      "outputs": [],
      "source": []
    }
  ],
  "metadata": {
    "colab": {
      "collapsed_sections": [
        "PmqYP1ti1sTf",
        "KlMSNxpT3SB7",
        "2b1tC5233YYj",
        "xsGy9thF3en0",
        "xv1MaGz3-bQ-",
        "2BUxmanZAPT1",
        "PejHg0YlEdud",
        "PCgWTGf_FtVW",
        "R6rvxGOzHacn",
        "h5K3ixWuR2BI",
        "HFNqEyPYR51P",
        "4exEWWpSR80N",
        "70MKS7JnSBzP",
        "W1fY4Z7WZraV",
        "Lbk-6ZRD6c-y",
        "S02RNiUk63t6",
        "nnXDcclr72tX",
        "deoeAh4a_ZYS",
        "L9uj5isZ9qvp"
      ],
      "provenance": []
    },
    "kernelspec": {
      "display_name": "Python 3",
      "name": "python3"
    },
    "language_info": {
      "name": "python"
    }
  },
  "nbformat": 4,
  "nbformat_minor": 0
}